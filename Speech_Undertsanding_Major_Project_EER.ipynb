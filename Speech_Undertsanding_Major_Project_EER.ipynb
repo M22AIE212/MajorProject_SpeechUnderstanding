{
  "nbformat": 4,
  "nbformat_minor": 0,
  "metadata": {
    "colab": {
      "provenance": [],
      "gpuType": "T4",
      "include_colab_link": true
    },
    "kernelspec": {
      "name": "python3",
      "display_name": "Python 3"
    },
    "language_info": {
      "name": "python"
    },
    "accelerator": "GPU"
  },
  "cells": [
    {
      "cell_type": "markdown",
      "metadata": {
        "id": "view-in-github",
        "colab_type": "text"
      },
      "source": [
        "<a href=\"https://colab.research.google.com/github/M22AIE212/MajorProject_SpeechUnderstanding/blob/main/Speech_Undertsanding_Major_Project_EER.ipynb\" target=\"_parent\"><img src=\"https://colab.research.google.com/assets/colab-badge.svg\" alt=\"Open In Colab\"/></a>"
      ]
    },
    {
      "cell_type": "code",
      "source": [
        "!git clone https://github.com/M22AIE212/MajorProject_SpeechUnderstanding.git"
      ],
      "metadata": {
        "colab": {
          "base_uri": "https://localhost:8080/"
        },
        "id": "hgj8JZdm7csV",
        "outputId": "3dc2387f-03ef-4963-9f4f-a2818d1c5db7"
      },
      "execution_count": 3,
      "outputs": [
        {
          "output_type": "stream",
          "name": "stdout",
          "text": [
            "Cloning into 'MajorProject_SpeechUnderstanding'...\n",
            "remote: Enumerating objects: 39, done.\u001b[K\n",
            "remote: Counting objects: 100% (39/39), done.\u001b[K\n",
            "remote: Compressing objects: 100% (37/37), done.\u001b[K\n",
            "remote: Total 39 (delta 14), reused 0 (delta 0), pack-reused 0\u001b[K\n",
            "Receiving objects: 100% (39/39), 369.85 KiB | 6.38 MiB/s, done.\n",
            "Resolving deltas: 100% (14/14), done.\n"
          ]
        }
      ]
    },
    {
      "cell_type": "code",
      "source": [
        "from google.colab import drive\n",
        "drive.mount('/content/drive')"
      ],
      "metadata": {
        "colab": {
          "base_uri": "https://localhost:8080/"
        },
        "id": "t7Oma6snLi2W",
        "outputId": "9503c9ae-e882-4d13-a8bf-e576a7128262"
      },
      "execution_count": 1,
      "outputs": [
        {
          "output_type": "stream",
          "name": "stdout",
          "text": [
            "Mounted at /content/drive\n"
          ]
        }
      ]
    },
    {
      "cell_type": "code",
      "source": [
        "!cp \"/content/drive/MyDrive/Speech Understanding/A3/test-gram.zip\" /content"
      ],
      "metadata": {
        "id": "UCKhJWQT7syO"
      },
      "execution_count": 5,
      "outputs": []
    },
    {
      "cell_type": "code",
      "source": [
        "!unzip /content/test-gram.zip"
      ],
      "metadata": {
        "colab": {
          "base_uri": "https://localhost:8080/"
        },
        "id": "2pw714d48Awp",
        "outputId": "eddb3c3c-eeb7-401a-fb49-b637245dc1ef"
      },
      "execution_count": 6,
      "outputs": [
        {
          "output_type": "stream",
          "name": "stdout",
          "text": [
            "Archive:  /content/test-gram.zip\n",
            "   creating: content/LibriSpeech/test-gram/\n",
            "   creating: content/LibriSpeech/test-gram/1/\n",
            "  inflating: content/LibriSpeech/test-gram/1/09e69cbb2d6a4329a1c4cbe23296abcc.png  \n",
            "  inflating: content/LibriSpeech/test-gram/1/aeaef88aaddd4a7fa1b5d29f0da68b65.png  \n",
            "  inflating: content/LibriSpeech/test-gram/1/346b087e6c8a427ea78774164644bb15.png  \n",
            "  inflating: content/LibriSpeech/test-gram/1/62660c1efef94f75b82cf1d2dda07481.png  \n",
            "  inflating: content/LibriSpeech/test-gram/1/aef40bb89cb24f2f9be00b502053725a.png  \n",
            "  inflating: content/LibriSpeech/test-gram/1/ccb6645e29fd4d308d0a8b2151ced3a0.png  \n",
            "  inflating: content/LibriSpeech/test-gram/1/1e2dd4140d2049ca87b6ba59c3727500.png  \n",
            "  inflating: content/LibriSpeech/test-gram/1/4e8c9d4679d743b0bbde0b32eb108cdc.png  \n",
            "  inflating: content/LibriSpeech/test-gram/1/fa134946412148bd8ad50d7b7cf051fa.png  \n",
            "  inflating: content/LibriSpeech/test-gram/1/e9887e39f9ba45fb9403f36ee3f5e202.png  \n",
            "  inflating: content/LibriSpeech/test-gram/1/d3e7f50edc6f4b6da2b281396bdd4bc0.png  \n",
            "  inflating: content/LibriSpeech/test-gram/1/34d364a2f72a46cbb1d5c0efdc0be527.png  \n",
            "  inflating: content/LibriSpeech/test-gram/1/07b10c0481fd4569b360a73f26d61660.png  \n",
            "  inflating: content/LibriSpeech/test-gram/1/6e6db30694d64911bcd7c0a38a9ce936.png  \n",
            "  inflating: content/LibriSpeech/test-gram/1/73982fe243b845749dd85234ce5986db.png  \n",
            "  inflating: content/LibriSpeech/test-gram/1/c4f337353e564f2f96e0c1a74cc135c5.png  \n",
            "  inflating: content/LibriSpeech/test-gram/1/9e24209b517a4ab0b4c58b8c01cb3013.png  \n",
            "  inflating: content/LibriSpeech/test-gram/1/739d811596f64d77a4e01c227c4b7ec1.png  \n",
            "  inflating: content/LibriSpeech/test-gram/1/2185fcfee8e644339d9110bde689ff62.png  \n",
            "  inflating: content/LibriSpeech/test-gram/1/530a07438e21409b9303fc6143900751.png  \n",
            "  inflating: content/LibriSpeech/test-gram/1/56af6fcec598446385be2153bbf63baf.png  \n",
            "  inflating: content/LibriSpeech/test-gram/1/682fcf2aeacf4137bd5e41f1eddd8cdb.png  \n",
            "  inflating: content/LibriSpeech/test-gram/1/67ccf4a2b7004a6bbdc367f9141f3058.png  \n",
            "  inflating: content/LibriSpeech/test-gram/1/1b4a204e7ab7433f832cd6376fb30238.png  \n",
            "  inflating: content/LibriSpeech/test-gram/1/f147ea1df9454b82a0f3be6ff577ad09.png  \n",
            "  inflating: content/LibriSpeech/test-gram/1/5683fd3735d44e999c48dbd25c2fc024.png  \n",
            "  inflating: content/LibriSpeech/test-gram/1/887194f893fc4edeb83951537ab6ded8.png  \n",
            "  inflating: content/LibriSpeech/test-gram/1/c5757c6924c044bdb28d525b271d0a38.png  \n",
            "  inflating: content/LibriSpeech/test-gram/1/32b799d57eb545eb83302aab61b19243.png  \n",
            "  inflating: content/LibriSpeech/test-gram/1/23ec05802e5c41189f091aedb3ab84cd.png  \n",
            "  inflating: content/LibriSpeech/test-gram/1/7294ecb1fcaa4d57923e46c735d6cb57.png  \n",
            "  inflating: content/LibriSpeech/test-gram/1/ce6daf03c3a340e8968f30dc73121850.png  \n",
            "  inflating: content/LibriSpeech/test-gram/1/985765d743fc4407af9d85d453cde9f5.png  \n",
            "  inflating: content/LibriSpeech/test-gram/1/475b1740026a49838e5fee8519e4a657.png  \n",
            "  inflating: content/LibriSpeech/test-gram/1/baa9dc4b32b54c14873003757e6bddd9.png  \n",
            "  inflating: content/LibriSpeech/test-gram/1/6a3b3558174d4f82859ece7ccdfa039b.png  \n",
            "  inflating: content/LibriSpeech/test-gram/1/cb9d3b7502da4300b6613bd4219102d8.png  \n",
            "  inflating: content/LibriSpeech/test-gram/1/a19ef588d7494c6eafe246b1fd420249.png  \n",
            "  inflating: content/LibriSpeech/test-gram/1/83c46a0eef8a40959eb9c2476fc57b83.png  \n",
            "  inflating: content/LibriSpeech/test-gram/1/283985b730bd4e438ffa532bd4d15736.png  \n",
            "  inflating: content/LibriSpeech/test-gram/1/85c1d198ad52473daf7aa678ba8c1b1d.png  \n",
            "  inflating: content/LibriSpeech/test-gram/1/697f7096c18e400396acb5d3da93b585.png  \n",
            "  inflating: content/LibriSpeech/test-gram/1/4ecd450784144c318b9fdadbfe0790c5.png  \n",
            "  inflating: content/LibriSpeech/test-gram/1/4a6093b199de4488bf5b0029f72ef020.png  \n",
            "  inflating: content/LibriSpeech/test-gram/1/0223e7f4c3c84a3f93d6fb1ce3e04023.png  \n",
            "  inflating: content/LibriSpeech/test-gram/1/f0f35fc031a84263ac9dba018a72790b.png  \n",
            "  inflating: content/LibriSpeech/test-gram/1/99790bf268794278ab56d1ddb1792a2b.png  \n",
            "  inflating: content/LibriSpeech/test-gram/1/037e314ceb0943ae8cd5e7e582c156de.png  \n",
            "  inflating: content/LibriSpeech/test-gram/1/3807ca1000f6481c8c52269c784d2ad4.png  \n",
            "  inflating: content/LibriSpeech/test-gram/1/8ca39fa7468945afab30c1d27851939b.png  \n",
            "  inflating: content/LibriSpeech/test-gram/1/2c33adc0084940acbc77bd7b8fc05f36.png  \n",
            "  inflating: content/LibriSpeech/test-gram/1/0fa055785bc94cb0950578aee0d7a83b.png  \n",
            "  inflating: content/LibriSpeech/test-gram/1/6f588f7a56274c64a1ec0bfc4f35f2bf.png  \n",
            "  inflating: content/LibriSpeech/test-gram/1/f039710e747646239b1cfe63bdfb41a7.png  \n",
            "  inflating: content/LibriSpeech/test-gram/1/fe984c706b6045939782b312850b9a4b.png  \n",
            "  inflating: content/LibriSpeech/test-gram/1/6234dc59ba9c43078294b5fa69364f26.png  \n",
            "  inflating: content/LibriSpeech/test-gram/1/c81bd9fa005c4bc89d80284739f384f3.png  \n",
            "  inflating: content/LibriSpeech/test-gram/1/523906238e33444a9c1d055cb1764316.png  \n",
            "  inflating: content/LibriSpeech/test-gram/1/10d5d8f812004902bba0d428a41809ac.png  \n",
            "  inflating: content/LibriSpeech/test-gram/1/843f03e6549441f8a31acb212b2212f5.png  \n",
            "  inflating: content/LibriSpeech/test-gram/1/18bd2acfd3fc4c08b84b357a7a255b81.png  \n",
            "  inflating: content/LibriSpeech/test-gram/1/b2ff2f9c968a4e6faa016061a2afc1df.png  \n",
            "  inflating: content/LibriSpeech/test-gram/1/4a63f39388fd40b3bd8e6c1c70560ec3.png  \n",
            "  inflating: content/LibriSpeech/test-gram/1/c729df8439e247259ce8251544b8c068.png  \n",
            "  inflating: content/LibriSpeech/test-gram/1/d228d44f8ba3481fa4b3fd43566cb060.png  \n",
            "  inflating: content/LibriSpeech/test-gram/1/5193f4c039c7473e9f0e42ab4a65556d.png  \n",
            "  inflating: content/LibriSpeech/test-gram/1/a2758bf44b3c4cb1b063459f3a520676.png  \n",
            "  inflating: content/LibriSpeech/test-gram/1/1e45fe11aaa84dffb2552f67bb360354.png  \n",
            "  inflating: content/LibriSpeech/test-gram/1/f6dc7242ba294f308787784f037ec99c.png  \n",
            "  inflating: content/LibriSpeech/test-gram/1/960918323cfe4df18125ff9463cd96d8.png  \n",
            "  inflating: content/LibriSpeech/test-gram/1/5c62462be83242749ee3463f4ac061dd.png  \n",
            "  inflating: content/LibriSpeech/test-gram/1/9c91fd6d3f2e4937a0bc35e8bea76a57.png  \n",
            "  inflating: content/LibriSpeech/test-gram/1/7a1f8bba821647be95b90637a41b5255.png  \n",
            "  inflating: content/LibriSpeech/test-gram/1/9018642161994de8b73e91f12a5aecdf.png  \n",
            "  inflating: content/LibriSpeech/test-gram/1/d1ae7e2063b345dd8781ef904041144e.png  \n",
            "  inflating: content/LibriSpeech/test-gram/1/6b023b083aea43398d258a213c846c3e.png  \n",
            "  inflating: content/LibriSpeech/test-gram/1/14aa694e5ba04a599f7a0ed4fb6d4122.png  \n",
            "  inflating: content/LibriSpeech/test-gram/1/253996088c294790bd463a0910fdc33a.png  \n",
            "  inflating: content/LibriSpeech/test-gram/1/8b583297ce8143d9a1a5f567f343c7ed.png  \n",
            "  inflating: content/LibriSpeech/test-gram/1/f1dd5e6984b44e72b08ea8678cf62ed5.png  \n",
            "  inflating: content/LibriSpeech/test-gram/1/6668b79615e74a58bec3e5e5c504fece.png  \n",
            "  inflating: content/LibriSpeech/test-gram/1/70d2aa1ae23747368880936396aa953e.png  \n",
            "  inflating: content/LibriSpeech/test-gram/1/c258852f7d9e48899292a385847c749e.png  \n",
            "  inflating: content/LibriSpeech/test-gram/1/4630306e874d4212ba3484865a027aeb.png  \n",
            "   creating: content/LibriSpeech/test-gram/2/\n",
            "  inflating: content/LibriSpeech/test-gram/2/070e50f875df4b72b70ae3d0a5d88120.png  \n",
            "  inflating: content/LibriSpeech/test-gram/2/69e4f313ee56484383aad1e3cdbf631f.png  \n",
            "  inflating: content/LibriSpeech/test-gram/2/0abe20c944ff4d09a626a98c7e88b1d2.png  \n",
            "  inflating: content/LibriSpeech/test-gram/2/4e511ec263e548aea22913141af4bdcd.png  \n",
            "  inflating: content/LibriSpeech/test-gram/2/7346313aa2c344b8b9666d6761d5cfe2.png  \n",
            "  inflating: content/LibriSpeech/test-gram/2/a20958dc225b4464ba01ecd92f86659e.png  \n",
            "  inflating: content/LibriSpeech/test-gram/2/c26a49282efa4310bc860d22b5a768b0.png  \n",
            "  inflating: content/LibriSpeech/test-gram/2/fa2ffd01791343b79eacf9b44d5ba315.png  \n",
            "  inflating: content/LibriSpeech/test-gram/2/cd483e973a704ad6b8cfb5590615f715.png  \n",
            "  inflating: content/LibriSpeech/test-gram/2/c97e28bd2ff646be803686c7d1c08f0f.png  \n",
            "  inflating: content/LibriSpeech/test-gram/2/8c5da700edb14db4b5ea5333503082c2.png  \n",
            "  inflating: content/LibriSpeech/test-gram/2/fda2fecd6d3c4ef7a3151099dc059d32.png  \n",
            "  inflating: content/LibriSpeech/test-gram/2/78a220de8fc7487c9daa82298c2c2be9.png  \n",
            "  inflating: content/LibriSpeech/test-gram/2/db68f2cb7c93428aa6a817a9bfb62f1c.png  \n",
            "  inflating: content/LibriSpeech/test-gram/2/ff4f63fd15b74dc09500a317faa11938.png  \n",
            "  inflating: content/LibriSpeech/test-gram/2/31f955da823548828fb3aeae932f1a73.png  \n",
            "  inflating: content/LibriSpeech/test-gram/2/24d2ec421c374b06b48a79722ac1e35e.png  \n",
            "  inflating: content/LibriSpeech/test-gram/2/88038dddd79c43d5bc54dd58c608042d.png  \n",
            "  inflating: content/LibriSpeech/test-gram/2/9ed1e0991fbd4a948cb3646d320b561f.png  \n",
            "  inflating: content/LibriSpeech/test-gram/2/6c53475696734209911054934a98ceb9.png  \n",
            "  inflating: content/LibriSpeech/test-gram/2/eb1a96902586401b98d993b582ef3073.png  \n",
            "  inflating: content/LibriSpeech/test-gram/2/a63788198dde499c8e25d9b369533e20.png  \n",
            "  inflating: content/LibriSpeech/test-gram/2/837c29d4aa304e1f8bae02f663a7a9ef.png  \n",
            "  inflating: content/LibriSpeech/test-gram/2/c9be664f7ace40adb971f1543c02bf8e.png  \n",
            "  inflating: content/LibriSpeech/test-gram/2/1641676425284b5c8868ae9fde2d55e2.png  \n",
            "  inflating: content/LibriSpeech/test-gram/2/5a681ad7636040fabc3142a35ee7f136.png  \n",
            "  inflating: content/LibriSpeech/test-gram/2/2fc93b4498674496b55053498ed47b84.png  \n",
            "  inflating: content/LibriSpeech/test-gram/2/9eb9e62210ba4738a40a3673d0fc7671.png  \n",
            "  inflating: content/LibriSpeech/test-gram/2/65d389fd78064708aed0b4f3f5354645.png  \n",
            "  inflating: content/LibriSpeech/test-gram/2/f08329fcd20e472dbd827c7a094cc51e.png  \n",
            "  inflating: content/LibriSpeech/test-gram/2/676c4c666ac14c0cb4bacb16fcd0fb58.png  \n",
            "  inflating: content/LibriSpeech/test-gram/2/c1214bbcf3844b40b8b769fc43b0edc3.png  \n",
            "  inflating: content/LibriSpeech/test-gram/2/85988c594a7e4af7960f6bbbd83ebead.png  \n",
            "  inflating: content/LibriSpeech/test-gram/2/6af21dcdac9c4c8c867f532352a8a21b.png  \n",
            "  inflating: content/LibriSpeech/test-gram/2/bfb845dac682429faa4af81a0e5c3ad7.png  \n",
            "  inflating: content/LibriSpeech/test-gram/2/bf5bd002a58e44aa9a35253de1730c29.png  \n",
            "  inflating: content/LibriSpeech/test-gram/2/d1c688998dc84aa4a1ac4042373f2631.png  \n",
            "  inflating: content/LibriSpeech/test-gram/2/7b095dcaebb04a4a90a1407b58dcc3e0.png  \n",
            "  inflating: content/LibriSpeech/test-gram/2/58a04dd3073d46b8b9ef816a407f8e2c.png  \n",
            "  inflating: content/LibriSpeech/test-gram/2/187d3124ed3c4ed9b8b758702a52a9cf.png  \n",
            "  inflating: content/LibriSpeech/test-gram/2/e27c8c5c14024b0e8452940ab3b5d91d.png  \n",
            "  inflating: content/LibriSpeech/test-gram/2/eaa8fcc113d84de3bdfaa5765b630091.png  \n",
            "  inflating: content/LibriSpeech/test-gram/2/78ed4b5d963b442996c14bae739806cb.png  \n",
            "  inflating: content/LibriSpeech/test-gram/2/2065bd2187bf4cddad3d322aae52ca02.png  \n",
            "  inflating: content/LibriSpeech/test-gram/2/17c6c31916b74c48bcf4ac4211ad5401.png  \n",
            "  inflating: content/LibriSpeech/test-gram/2/bc6664d8e625406fb6c388b5607390ab.png  \n",
            "  inflating: content/LibriSpeech/test-gram/2/236fe7a7654540aeb5ab8bc70e6d3319.png  \n",
            "  inflating: content/LibriSpeech/test-gram/2/4ee982278928424ba5accc40e01aed27.png  \n",
            "  inflating: content/LibriSpeech/test-gram/2/d0b1cca21dc44364bdca38d3525a8cde.png  \n",
            "  inflating: content/LibriSpeech/test-gram/2/305f9605ff104ea0911766e8f1c124e2.png  \n",
            "  inflating: content/LibriSpeech/test-gram/2/2190aff98af64d60ae6eec39f48a6acb.png  \n",
            "  inflating: content/LibriSpeech/test-gram/2/db595c6370604a33a1caeb07169371be.png  \n",
            "  inflating: content/LibriSpeech/test-gram/2/542b64b3aeca4e98bc58d43157ea6310.png  \n",
            "  inflating: content/LibriSpeech/test-gram/2/4deb4634af6442989f78bf115f6e2241.png  \n",
            "  inflating: content/LibriSpeech/test-gram/2/c69e97eb28b14492849c9d26036090e9.png  \n",
            "  inflating: content/LibriSpeech/test-gram/2/9a02958ebd824c3aa394e831eef70711.png  \n",
            "  inflating: content/LibriSpeech/test-gram/2/d83a2f1e42ab4de09f215780f508a54c.png  \n",
            "  inflating: content/LibriSpeech/test-gram/2/a77f04ab66124abdbae571ee9d9cb1c5.png  \n",
            "  inflating: content/LibriSpeech/test-gram/2/35b404275e2a429d9fc691077cd36ac5.png  \n",
            "  inflating: content/LibriSpeech/test-gram/2/1d03494f82c7445aadbe7382da9e127b.png  \n",
            "  inflating: content/LibriSpeech/test-gram/2/6f215ee86dd8446aa8208b476bc2dd56.png  \n",
            "  inflating: content/LibriSpeech/test-gram/2/5df10a3e10c14b1191b93237e8f5d7c1.png  \n",
            "  inflating: content/LibriSpeech/test-gram/2/9c2741ef27bf4eeabffd682d527bcd1e.png  \n",
            "  inflating: content/LibriSpeech/test-gram/2/23608acefc3c470d8e5fd341c5e392c2.png  \n",
            "  inflating: content/LibriSpeech/test-gram/2/76b01d3b784d40338b1f683a3fc39f02.png  \n",
            "   creating: content/LibriSpeech/test-gram/3/\n",
            "  inflating: content/LibriSpeech/test-gram/3/c1681927b9d749e49c61be73cba61031.png  \n",
            "  inflating: content/LibriSpeech/test-gram/3/e54ff1ee551a4f7fbc52f863247309b4.png  \n",
            "  inflating: content/LibriSpeech/test-gram/3/d9249ace6839484b9acb03d820632e6a.png  \n",
            "  inflating: content/LibriSpeech/test-gram/3/ab4eb2845cae46cca69a93a51e9bc293.png  \n",
            "  inflating: content/LibriSpeech/test-gram/3/bc94db864e55481a8354e9db90ac9b9f.png  \n",
            "  inflating: content/LibriSpeech/test-gram/3/f383ee1332654ef1877ef330ba66418e.png  \n",
            "  inflating: content/LibriSpeech/test-gram/3/7f071fc27e4d43fa803181b75a092b3f.png  \n",
            "  inflating: content/LibriSpeech/test-gram/3/98a7496304d34f72ac465a350fdbd748.png  \n",
            "  inflating: content/LibriSpeech/test-gram/3/e33cd0ff2159408b80537e22fed63d0f.png  \n",
            "  inflating: content/LibriSpeech/test-gram/3/de9fa99cff6d44e0a4e6432e47d47e29.png  \n",
            "  inflating: content/LibriSpeech/test-gram/3/046a6e3f265d43f3ab18ff852cd1ca8f.png  \n",
            "  inflating: content/LibriSpeech/test-gram/3/a0dfbfc06ac14ce3b9461abf1f3df6b5.png  \n",
            "  inflating: content/LibriSpeech/test-gram/3/9bf415ccd17f4956aef2a177a996b9e8.png  \n",
            "  inflating: content/LibriSpeech/test-gram/3/97bd08cfa2a94b809bc13b4d65c8c0c9.png  \n",
            "  inflating: content/LibriSpeech/test-gram/3/c205f1599f404bdf9e0e9406110db109.png  \n",
            "  inflating: content/LibriSpeech/test-gram/3/afc65176dd23455c98c7189f9ed32f79.png  \n",
            "  inflating: content/LibriSpeech/test-gram/3/eb6ec17d753145d09e16af8753f35368.png  \n",
            "  inflating: content/LibriSpeech/test-gram/3/ee4cfc106db5476383c5cd86771585e5.png  \n",
            "  inflating: content/LibriSpeech/test-gram/3/652f4daae6594672a61e3b9124a154c7.png  \n",
            "  inflating: content/LibriSpeech/test-gram/3/01fdf877dfcb4746a052217baea517b3.png  \n",
            "  inflating: content/LibriSpeech/test-gram/3/9679b43c88d84d38a3ba0940728e13c7.png  \n",
            "  inflating: content/LibriSpeech/test-gram/3/db50b279fd314b5b89ec7fbaf5397f47.png  \n",
            "  inflating: content/LibriSpeech/test-gram/3/ab08c1827e604992916b28055c60c7d2.png  \n",
            "  inflating: content/LibriSpeech/test-gram/3/2e632397ab22419a90a28d5c1d19c8c3.png  \n",
            "  inflating: content/LibriSpeech/test-gram/3/0756e6e87e5d4da8a1564f7f5e45e407.png  \n",
            "  inflating: content/LibriSpeech/test-gram/3/af461ae685194a99b19097762d0d3364.png  \n",
            "  inflating: content/LibriSpeech/test-gram/3/70891a8d99854d2191738971090115b6.png  \n",
            "  inflating: content/LibriSpeech/test-gram/3/58c7af74321a4180a0c81af0089050ea.png  \n",
            "  inflating: content/LibriSpeech/test-gram/3/8f14744359c847eeafe67f91afd3474c.png  \n",
            "  inflating: content/LibriSpeech/test-gram/3/00ad69b450594c4893754cbaa46e74aa.png  \n",
            "  inflating: content/LibriSpeech/test-gram/3/14a7c89f8f094b02b0415303f6339121.png  \n",
            "  inflating: content/LibriSpeech/test-gram/3/8d10804ef006431d92acb36d891684ff.png  \n",
            "  inflating: content/LibriSpeech/test-gram/3/fa79ff27634c404d8afe1ca9a6c062de.png  \n",
            "  inflating: content/LibriSpeech/test-gram/3/4f6a489a2a1f4f2b9553a8eb63d712d1.png  \n",
            "  inflating: content/LibriSpeech/test-gram/3/8de91dd3a3504fe5b67abb0ff3b714ff.png  \n",
            "  inflating: content/LibriSpeech/test-gram/3/823b5b9f6be04c1fbed4b9b8c1bc4a4b.png  \n",
            "  inflating: content/LibriSpeech/test-gram/3/1a4c2a7bf0ed41f5a30cbe29806ac91b.png  \n",
            "  inflating: content/LibriSpeech/test-gram/3/cf63d324bc6a4552918ee4add88a5b52.png  \n",
            "  inflating: content/LibriSpeech/test-gram/3/048fe978d23f4047b9bbdd55e279b530.png  \n",
            "  inflating: content/LibriSpeech/test-gram/3/5b1454f47e324d47a68ef367d6af2ec8.png  \n",
            "  inflating: content/LibriSpeech/test-gram/3/b3a715b1a8164d2bb8f245be06973afa.png  \n",
            "  inflating: content/LibriSpeech/test-gram/3/7a4206500e2f42be9355c72403bd942c.png  \n",
            "  inflating: content/LibriSpeech/test-gram/3/36826b5f4f1a47a38c675ab5efc6332e.png  \n",
            "  inflating: content/LibriSpeech/test-gram/3/7321f48816684b9788c1b62d8911be87.png  \n",
            "  inflating: content/LibriSpeech/test-gram/3/51888b505dd245a6a80c64d8dbd6ce3a.png  \n",
            "  inflating: content/LibriSpeech/test-gram/3/0d70fe25484d4497b58223934d03e2f6.png  \n",
            "  inflating: content/LibriSpeech/test-gram/3/62a09e44029441929ae2ccaa0ea19d46.png  \n",
            "  inflating: content/LibriSpeech/test-gram/3/e27dadf6dec541eebc3da4c8e33dcf57.png  \n",
            "  inflating: content/LibriSpeech/test-gram/3/db0ffa3388fa42d1afb77504d8729d4d.png  \n",
            "  inflating: content/LibriSpeech/test-gram/3/5c8ba6ba090d4f58bd75770a3c256c29.png  \n",
            "  inflating: content/LibriSpeech/test-gram/3/d5ad998c8e9443a09de9c8c60923b4fc.png  \n",
            "  inflating: content/LibriSpeech/test-gram/3/808cd3e5cff24a468b6fddf33bdf0cd3.png  \n",
            "  inflating: content/LibriSpeech/test-gram/3/06c68b3951824efaa39dfeeb73e9db0e.png  \n",
            "  inflating: content/LibriSpeech/test-gram/3/55801fb7e2e14d6cb59739a87cd1f5ec.png  \n",
            "  inflating: content/LibriSpeech/test-gram/3/83bddab7fd804338a43f61074fad6743.png  \n",
            "  inflating: content/LibriSpeech/test-gram/3/b1bdc15833004f94848c1ecf4fd237e3.png  \n",
            "  inflating: content/LibriSpeech/test-gram/3/c69b5a6ed01149a286974d936fe6b709.png  \n",
            "  inflating: content/LibriSpeech/test-gram/3/bcea11d241624f43b591abaf342e0a7d.png  \n",
            "  inflating: content/LibriSpeech/test-gram/3/f330bb5c1a95489092f2de6f946a0d33.png  \n",
            "  inflating: content/LibriSpeech/test-gram/3/ecf289b12e8b46439a65dad71af58d61.png  \n",
            "   creating: content/LibriSpeech/test-gram/8/\n",
            "  inflating: content/LibriSpeech/test-gram/8/5e5b75155b544a19a2cfeed26e105fd9.png  \n",
            "  inflating: content/LibriSpeech/test-gram/8/aeb14a70f63948b6b6be27759829d8ef.png  \n",
            "  inflating: content/LibriSpeech/test-gram/8/73ce3095e7a748d9b7d264f3e8d6d97f.png  \n",
            "  inflating: content/LibriSpeech/test-gram/8/9e58f14d1a974c9db06294b01f9f69f0.png  \n",
            "  inflating: content/LibriSpeech/test-gram/8/58e90c6ea4c24907a91239aba3d804cc.png  \n",
            "  inflating: content/LibriSpeech/test-gram/8/c05b6cd0e809489e980c943d0e2cc97e.png  \n",
            "  inflating: content/LibriSpeech/test-gram/8/dfebd04e2cc140d082b47a390046a8c0.png  \n",
            "  inflating: content/LibriSpeech/test-gram/8/33d76e82cfed4666ab61fc1bdad6c0d9.png  \n",
            "  inflating: content/LibriSpeech/test-gram/8/3f72c1a570e1408587f7cfacb1105866.png  \n",
            "  inflating: content/LibriSpeech/test-gram/8/09d053e5ebef4117b4c5087e376a25cf.png  \n",
            "  inflating: content/LibriSpeech/test-gram/8/836796edc3664c48bb722dea60750e5c.png  \n",
            "  inflating: content/LibriSpeech/test-gram/8/d324c0045ad240f2aa7a5a8c88c49d48.png  \n",
            "  inflating: content/LibriSpeech/test-gram/8/a05575256f744fefb3a10e5690ec1d8e.png  \n",
            "  inflating: content/LibriSpeech/test-gram/8/5932f42261a047feba65d234e515f4c1.png  \n",
            "  inflating: content/LibriSpeech/test-gram/8/f59864b7a179463aaa7c5009461c644e.png  \n",
            "  inflating: content/LibriSpeech/test-gram/8/1115b23d3e8a491b9295fb5832047357.png  \n",
            "  inflating: content/LibriSpeech/test-gram/8/e13e8d2e7b8344cf8f8392e78edcde4b.png  \n",
            "  inflating: content/LibriSpeech/test-gram/8/d0178904860448138d6a79f73bcc3753.png  \n",
            "  inflating: content/LibriSpeech/test-gram/8/b305808682084dc6bcddbfb92ef53674.png  \n",
            "  inflating: content/LibriSpeech/test-gram/8/4511922d9c6a404384d55599d29e4027.png  \n",
            "  inflating: content/LibriSpeech/test-gram/8/00931f86c8064f24af282b2e10d4c6b7.png  \n",
            "  inflating: content/LibriSpeech/test-gram/8/9bd4e8db14d441d28bbf2dc82d9c3557.png  \n",
            "  inflating: content/LibriSpeech/test-gram/8/6b8ebae1a77d472aab366b7c3a7e5ef5.png  \n",
            "  inflating: content/LibriSpeech/test-gram/8/5c05293e6597492785de0e95f25fb1b3.png  \n",
            "  inflating: content/LibriSpeech/test-gram/8/e4f3c989d2344f98b55ad2a5a3f9cbc3.png  \n",
            "  inflating: content/LibriSpeech/test-gram/8/5f9ed3dd24a04ab09961c0a6883c5da0.png  \n",
            "  inflating: content/LibriSpeech/test-gram/8/08fb9f804c7a494aa0ddd677e94fb851.png  \n",
            "  inflating: content/LibriSpeech/test-gram/8/6e7b2457446244bfa1f4bfe11b992458.png  \n",
            "  inflating: content/LibriSpeech/test-gram/8/6d2daec9cb8841df929c1e8db21e9813.png  \n",
            "  inflating: content/LibriSpeech/test-gram/8/c1af33a06f54400a8cad1b757bad24c9.png  \n",
            "  inflating: content/LibriSpeech/test-gram/8/5adc3ae1b5c648e28c8412eb32a4dbd9.png  \n",
            "  inflating: content/LibriSpeech/test-gram/8/eae13a43cba74a3286d8da147f552382.png  \n",
            "  inflating: content/LibriSpeech/test-gram/8/4bfe42fea0bd4a0fa4e5f43a5a12c269.png  \n",
            "  inflating: content/LibriSpeech/test-gram/8/c219b1eb53824f0bb2a57e02b55fb117.png  \n",
            "  inflating: content/LibriSpeech/test-gram/8/22b35e82de654d1bb7ac8b4e8eb8264b.png  \n",
            "  inflating: content/LibriSpeech/test-gram/8/be1adc3db24e47b1b32914b1ee1e6326.png  \n",
            "  inflating: content/LibriSpeech/test-gram/8/040cc1e2e5d5475d8d2abb41c41b3a72.png  \n",
            "  inflating: content/LibriSpeech/test-gram/8/73accea1d9334241943f040047a12337.png  \n",
            "  inflating: content/LibriSpeech/test-gram/8/3410c324a84148139633bb0623318ecb.png  \n",
            "  inflating: content/LibriSpeech/test-gram/8/321a83efecd249979d1aa79be11b750d.png  \n",
            "  inflating: content/LibriSpeech/test-gram/8/23e49bee8931415e90acd115296ae0fc.png  \n",
            "  inflating: content/LibriSpeech/test-gram/8/a7a65701ad7f47eab4b30e9f7405e0a6.png  \n",
            "  inflating: content/LibriSpeech/test-gram/8/2c882ac861e74bcdb2bef78cd78b8dd3.png  \n",
            "  inflating: content/LibriSpeech/test-gram/8/795534899d134fd0a8743fc64ebdf93d.png  \n",
            "  inflating: content/LibriSpeech/test-gram/8/84370baee9124725a6022fc3940ee1f7.png  \n",
            "  inflating: content/LibriSpeech/test-gram/8/96ed684c26b142a09074c9a518301c09.png  \n",
            "  inflating: content/LibriSpeech/test-gram/8/ae52699a2b8b469ebd382da4efb9e26b.png  \n",
            "  inflating: content/LibriSpeech/test-gram/8/6088436b615545ccb9422911e2c187b9.png  \n",
            "  inflating: content/LibriSpeech/test-gram/8/182eef45a0fc41e9a1b0c9c7056effe2.png  \n",
            "  inflating: content/LibriSpeech/test-gram/8/43554a965ed44ffd8a94ddb9da1a32b1.png  \n",
            "  inflating: content/LibriSpeech/test-gram/8/5381149e2e9b4a8496c097e598d3b8a4.png  \n",
            "  inflating: content/LibriSpeech/test-gram/8/fa601cafc84f4a24a2fb68b8b10587cf.png  \n",
            "  inflating: content/LibriSpeech/test-gram/8/4a3d139fa69b4236b9c4ac243d9b672b.png  \n",
            "  inflating: content/LibriSpeech/test-gram/8/9fc709c2a649413496fd05a7e48fbda0.png  \n",
            "  inflating: content/LibriSpeech/test-gram/8/0cc568cc4cb14b41aadfc8538f4adb89.png  \n",
            "  inflating: content/LibriSpeech/test-gram/8/257240a66d3d4e11b28209c5281f9762.png  \n",
            "  inflating: content/LibriSpeech/test-gram/8/84e556cb63904c0ea750a96e3474f062.png  \n",
            "  inflating: content/LibriSpeech/test-gram/8/7afab6bcff6841ae8135e626faa3afc4.png  \n",
            "  inflating: content/LibriSpeech/test-gram/8/5d11bb4b44514fa68a3ba39de18af1eb.png  \n",
            "  inflating: content/LibriSpeech/test-gram/8/124171ffc4154dc9b464ac0e0c0596e2.png  \n",
            "  inflating: content/LibriSpeech/test-gram/8/acc52e75439b4a87ac9e9729c560e8f4.png  \n",
            "  inflating: content/LibriSpeech/test-gram/8/b7525f7d16a244d783ae4c0ec99f08ff.png  \n",
            "  inflating: content/LibriSpeech/test-gram/8/4df17b1e679b4e919a0c8fd325be2caf.png  \n",
            "  inflating: content/LibriSpeech/test-gram/8/057c6ec6fce641f982d8d89ba668a506.png  \n",
            "  inflating: content/LibriSpeech/test-gram/8/09b057df4ead4e3a9e8a84e2db3c579f.png  \n",
            "  inflating: content/LibriSpeech/test-gram/8/3cfc253303d74518bfbf0c47205614f8.png  \n",
            "   creating: content/LibriSpeech/test-gram/4/\n",
            "  inflating: content/LibriSpeech/test-gram/4/6103838587ce4822b7453f4764e93e46.png  \n",
            "  inflating: content/LibriSpeech/test-gram/4/676b9cf45fc34505abe5bd8398f56461.png  \n",
            "  inflating: content/LibriSpeech/test-gram/4/709bb27a34034a3281909270676ae7bc.png  \n",
            "  inflating: content/LibriSpeech/test-gram/4/a3aaa90316a44ba6a109dd038672713c.png  \n",
            "  inflating: content/LibriSpeech/test-gram/4/3fe58f91c9e14477b7104d8504475581.png  \n",
            "  inflating: content/LibriSpeech/test-gram/4/36fea0b97882469cb473570597edb25a.png  \n",
            "  inflating: content/LibriSpeech/test-gram/4/3300510b6d3d4e27baf4d8a66662a432.png  \n",
            "  inflating: content/LibriSpeech/test-gram/4/e4fe1c1d8d6c4e2eb6e65706ea3c8508.png  \n",
            "  inflating: content/LibriSpeech/test-gram/4/acec9288d67145e195ca67fa5d2c15de.png  \n",
            "  inflating: content/LibriSpeech/test-gram/4/c1d697aaa54d4b888cf5f92b36e799d2.png  \n",
            "  inflating: content/LibriSpeech/test-gram/4/576ebd96c03d4c7f8461a802bc3a2698.png  \n",
            "  inflating: content/LibriSpeech/test-gram/4/781a0a52496649658071a866aef75578.png  \n",
            "  inflating: content/LibriSpeech/test-gram/4/defc53c39ce84299b1d9ff5318ea85e5.png  \n",
            "  inflating: content/LibriSpeech/test-gram/4/933ce6a75fdc4969b1b4ff1aa41c27f6.png  \n",
            "  inflating: content/LibriSpeech/test-gram/4/c882cce364514950abf4e82eff5f8550.png  \n",
            "  inflating: content/LibriSpeech/test-gram/4/b9c9e41f565a4a5fb82a87d836ce712f.png  \n",
            "  inflating: content/LibriSpeech/test-gram/4/626abb0d910b43ac8c4ef82aefcdc4a8.png  \n",
            "  inflating: content/LibriSpeech/test-gram/4/bdd01825209845169f0678fa8b7a778a.png  \n",
            "  inflating: content/LibriSpeech/test-gram/4/7f6dc36d11994b02bf90a6aad7a3a51a.png  \n",
            "  inflating: content/LibriSpeech/test-gram/4/f4e9fe4619844d15bc271c58a5ef0004.png  \n",
            "  inflating: content/LibriSpeech/test-gram/4/18bc770b13e44fc3b18b6ec3235a7913.png  \n",
            "  inflating: content/LibriSpeech/test-gram/4/7f29a924f63b440cb278016d3ff6e38b.png  \n",
            "  inflating: content/LibriSpeech/test-gram/4/f4f2277f8483427cb58b43c711ac2733.png  \n",
            "  inflating: content/LibriSpeech/test-gram/4/97c024790f6640a790e4afb94dce04d1.png  \n",
            "  inflating: content/LibriSpeech/test-gram/4/dcb29ce6c8f2476aba206e6e7fb62f48.png  \n",
            "  inflating: content/LibriSpeech/test-gram/4/3010866742d4402abbd85facc7931a2f.png  \n",
            "  inflating: content/LibriSpeech/test-gram/4/fe683e6ebd7f491b8c6c63d00848a86a.png  \n",
            "  inflating: content/LibriSpeech/test-gram/4/f371a310fcaa4bb68e5989d0248fb7b7.png  \n",
            "  inflating: content/LibriSpeech/test-gram/4/c42cbb6ec6324bc19a5b77bba6f8ee02.png  \n",
            "  inflating: content/LibriSpeech/test-gram/4/e10e8600d33e485ea44b0bfb1424073c.png  \n",
            "  inflating: content/LibriSpeech/test-gram/4/6e5b83eb5e4340ef85d2cbaf3cf0c0ec.png  \n",
            "  inflating: content/LibriSpeech/test-gram/4/bc6b23132c464620a73140477da74d8b.png  \n",
            "  inflating: content/LibriSpeech/test-gram/4/d8829200e7234e4cb26fc6e9564694a5.png  \n",
            "  inflating: content/LibriSpeech/test-gram/4/5abccf9de9f843998edc764d3f5b428f.png  \n",
            "  inflating: content/LibriSpeech/test-gram/4/d7919f6cc34d4eddb78025155a10baee.png  \n",
            "  inflating: content/LibriSpeech/test-gram/4/15db88077b55437e92b9cd484eb57340.png  \n",
            "  inflating: content/LibriSpeech/test-gram/4/eb06786d6f65470f819de2cfbbed3529.png  \n",
            "  inflating: content/LibriSpeech/test-gram/4/42921f1074d9494ea22673d61dfbcd09.png  \n",
            "  inflating: content/LibriSpeech/test-gram/4/9c9a092b1f294584946842335f1c2453.png  \n",
            "  inflating: content/LibriSpeech/test-gram/4/55fbea46e86c4763ab90d8a88a954347.png  \n",
            "  inflating: content/LibriSpeech/test-gram/4/ca51e851612545c389851c0ebf28531f.png  \n",
            "  inflating: content/LibriSpeech/test-gram/4/4f37717af0d44be2bcfd6dd86537a90c.png  \n",
            "  inflating: content/LibriSpeech/test-gram/4/08df13653bb54ccc9e480e2878c496ea.png  \n",
            "  inflating: content/LibriSpeech/test-gram/4/081d592d8892499f8289ebdaad7da4dc.png  \n",
            "  inflating: content/LibriSpeech/test-gram/4/aa868bacdcfd440faa18d55ecf9007aa.png  \n",
            "  inflating: content/LibriSpeech/test-gram/4/b63b2ac5b2a9473b97028903f0ed8717.png  \n",
            "  inflating: content/LibriSpeech/test-gram/4/449efd6dc66b41dd81554b0bdfdde78c.png  \n",
            "  inflating: content/LibriSpeech/test-gram/4/fe282fcf57bf425ba356403a94f41fe2.png  \n",
            "  inflating: content/LibriSpeech/test-gram/4/670c513307114c94b2ce470975d01f59.png  \n",
            "  inflating: content/LibriSpeech/test-gram/4/9c290409b87c47ada41fcbe45fb4dabf.png  \n",
            "  inflating: content/LibriSpeech/test-gram/4/354e942be36d41c6b44fea1869a764c9.png  \n",
            "  inflating: content/LibriSpeech/test-gram/4/bb9c0bc9f4eb4227bf776de84142fddd.png  \n",
            "  inflating: content/LibriSpeech/test-gram/4/868f829d9fff477cbd78288206350caf.png  \n",
            "  inflating: content/LibriSpeech/test-gram/4/e6cbea78251d42269c0b65887c135a32.png  \n",
            "  inflating: content/LibriSpeech/test-gram/4/5f16bb7d1c294f1c8c17416a01e45a19.png  \n",
            "  inflating: content/LibriSpeech/test-gram/4/c4d6a7b4e4a14678abb0194db0e512b4.png  \n",
            "  inflating: content/LibriSpeech/test-gram/4/512174bffbc34daaacea034a34eef51e.png  \n",
            "  inflating: content/LibriSpeech/test-gram/4/3211466c28ab492cbaa522eee203d9b4.png  \n",
            "  inflating: content/LibriSpeech/test-gram/4/79fba70d137a4a80b8b6d8eb98ec7097.png  \n",
            "  inflating: content/LibriSpeech/test-gram/4/f265e865c79d4b3eab64eded331d86ae.png  \n",
            "  inflating: content/LibriSpeech/test-gram/4/a63c6e462d254c38a3d4d6bd3e4a81d6.png  \n",
            "  inflating: content/LibriSpeech/test-gram/4/1126b4c6036e4c629c28c2a23aaa3460.png  \n",
            "  inflating: content/LibriSpeech/test-gram/4/4b882eac4edc426e84615fd2c7f3904d.png  \n",
            "  inflating: content/LibriSpeech/test-gram/4/587f9ee9ef424b3284df4bbbd6ebbe24.png  \n",
            "  inflating: content/LibriSpeech/test-gram/4/e1491ff3e3144fdbb461b8dd2933baaa.png  \n",
            "  inflating: content/LibriSpeech/test-gram/4/b0462d23fc61467c94c2bd1825b5b0a7.png  \n",
            "  inflating: content/LibriSpeech/test-gram/4/bfe64b6527384b74834e8d0fe48f92c1.png  \n",
            "  inflating: content/LibriSpeech/test-gram/4/887ca6b0794f4dccaf87c16d16f0ef89.png  \n",
            "  inflating: content/LibriSpeech/test-gram/4/1d2d36631ddf416188a336f4ed165025.png  \n",
            "  inflating: content/LibriSpeech/test-gram/4/fbb9481e1bfc4db78dda4809bd33e22c.png  \n",
            "  inflating: content/LibriSpeech/test-gram/4/d99e5434f0d64f27bfc93704d6c48e7d.png  \n",
            "  inflating: content/LibriSpeech/test-gram/4/02ab6876082a4a178120123f598008cf.png  \n",
            "  inflating: content/LibriSpeech/test-gram/4/70003ac80a7940b79d7d558b1fb9d058.png  \n",
            "  inflating: content/LibriSpeech/test-gram/4/8ac3f068ac0e4d5eb25a9f5f88c8ac17.png  \n",
            "  inflating: content/LibriSpeech/test-gram/4/35bb2d7c3cd647909e5afa7bbb2ad0b7.png  \n",
            "  inflating: content/LibriSpeech/test-gram/4/1bf20457f1d947e99a49912fd45c0f58.png  \n",
            "  inflating: content/LibriSpeech/test-gram/4/f5adfd2d9df948a2b0101d03505701ab.png  \n",
            "  inflating: content/LibriSpeech/test-gram/4/efafb8b0e1674423b42d934e7f5ddfb9.png  \n",
            "  inflating: content/LibriSpeech/test-gram/4/f23e4769b6584860ba506cef5d3d624e.png  \n",
            "   creating: content/LibriSpeech/test-gram/5/\n",
            "  inflating: content/LibriSpeech/test-gram/5/e5f9c8c506a44db88586a74860690243.png  \n",
            "  inflating: content/LibriSpeech/test-gram/5/b46adb62ca654194a6d01db85484aee4.png  \n",
            "  inflating: content/LibriSpeech/test-gram/5/2b37f84ce5b34aa6a433eb068542b49b.png  \n",
            "  inflating: content/LibriSpeech/test-gram/5/4e4ed1eead7d474a8c32e9b1626f518f.png  \n",
            "  inflating: content/LibriSpeech/test-gram/5/b93bd6d009ea4b79ba9c7fbb706978c5.png  \n",
            "  inflating: content/LibriSpeech/test-gram/5/8231f263950a4d9588a8b48b8cc50db0.png  \n",
            "  inflating: content/LibriSpeech/test-gram/5/a6b1fcca21f042c99f52216db919861b.png  \n",
            "  inflating: content/LibriSpeech/test-gram/5/b91828fb24ab4f518402f43395d0757b.png  \n",
            "  inflating: content/LibriSpeech/test-gram/5/c6c4dd6fb48a403cb37630ace6a74655.png  \n",
            "  inflating: content/LibriSpeech/test-gram/5/9ae9d23dcb384f3c8a929b0e75177cde.png  \n",
            "  inflating: content/LibriSpeech/test-gram/5/e09c89a599a649b688be5c7de7515d1e.png  \n",
            "  inflating: content/LibriSpeech/test-gram/5/95d8bdebfe6a4778bdb3efe61af85062.png  \n",
            "  inflating: content/LibriSpeech/test-gram/5/7ec96b01f92e4d1ea1d86cdebb584be6.png  \n",
            "  inflating: content/LibriSpeech/test-gram/5/8ad4e68fb94c4271a59d0ae3946ba1ee.png  \n",
            "  inflating: content/LibriSpeech/test-gram/5/e71c6143c4334f9a8a6feb005cf33da8.png  \n",
            "  inflating: content/LibriSpeech/test-gram/5/2834550d13a042c4a2606ebd40dc791a.png  \n",
            "  inflating: content/LibriSpeech/test-gram/5/7153a72e46aa472396dabd3cab72f3fb.png  \n",
            "  inflating: content/LibriSpeech/test-gram/5/efbf9e99e531419ca57d91dd033911ea.png  \n",
            "  inflating: content/LibriSpeech/test-gram/5/c3c0e30e1dc949b5831f38ac8d1415ae.png  \n",
            "  inflating: content/LibriSpeech/test-gram/5/ec21d0814a48428e8ae66603c43ae6c5.png  \n",
            "  inflating: content/LibriSpeech/test-gram/5/fa60b32d446c43ffa80d411ff9e92640.png  \n",
            "  inflating: content/LibriSpeech/test-gram/5/43fe6d30cb6540159a8ef150abd86732.png  \n",
            "  inflating: content/LibriSpeech/test-gram/5/86deca6e49ab45ec8f40ce59e6a4b488.png  \n",
            "  inflating: content/LibriSpeech/test-gram/5/2fc49daa027e4791b7ba6abc7f6d4d52.png  \n",
            "  inflating: content/LibriSpeech/test-gram/5/dfd5b8cde77b41baacc12132abb6600e.png  \n",
            "  inflating: content/LibriSpeech/test-gram/5/0ed8d01843ca491190a11baa92c2c234.png  \n",
            "  inflating: content/LibriSpeech/test-gram/5/61fd1f56a00a44b1a568af19f6cde693.png  \n",
            "  inflating: content/LibriSpeech/test-gram/5/c3248aff5b4349ccb8bb68ea7e556c61.png  \n",
            "  inflating: content/LibriSpeech/test-gram/5/79c54da8a72d405ca03b5652bfaaaf03.png  \n",
            "  inflating: content/LibriSpeech/test-gram/5/895be235736f4459ace2d7a9b64772e5.png  \n",
            "  inflating: content/LibriSpeech/test-gram/5/48263fd96a634d48b73a7e2d0a968020.png  \n",
            "  inflating: content/LibriSpeech/test-gram/5/d8fe2f74d8eb4be89eb1dba91af8ad50.png  \n",
            "  inflating: content/LibriSpeech/test-gram/5/5840569a95bd4ee694df1ab3a3e2abfb.png  \n",
            "  inflating: content/LibriSpeech/test-gram/5/692ebf2f307146e49a48958ad5ef5994.png  \n",
            "  inflating: content/LibriSpeech/test-gram/5/7eb3c374b0264801b40f07d04587239b.png  \n",
            "  inflating: content/LibriSpeech/test-gram/5/1df238a117d8412b9049fde4956c93da.png  \n",
            "  inflating: content/LibriSpeech/test-gram/5/15477b28ac364098b994f4a087d9fb70.png  \n",
            "  inflating: content/LibriSpeech/test-gram/5/8cf7f294edc74e158ceeb3cf95b9e19c.png  \n",
            "  inflating: content/LibriSpeech/test-gram/5/ebf3eaf824ca4c1e8461a35e440499dd.png  \n",
            "  inflating: content/LibriSpeech/test-gram/5/490fbc133760438eb0e109ea7fa60287.png  \n",
            "  inflating: content/LibriSpeech/test-gram/5/6f46ee223d57403293200df48c4440e4.png  \n",
            "  inflating: content/LibriSpeech/test-gram/5/1149a0a79c9e416bb27f9261e391817e.png  \n",
            "  inflating: content/LibriSpeech/test-gram/5/a3b6e4fef6394f5883c33caa4a6028bf.png  \n",
            "  inflating: content/LibriSpeech/test-gram/5/4b1404886bb247718bb65c2b42bd626f.png  \n",
            "  inflating: content/LibriSpeech/test-gram/5/185c6f7a8f0b43808d274f82edfd3b32.png  \n",
            "  inflating: content/LibriSpeech/test-gram/5/75e3a84ac4b143d9872df52e73a2651f.png  \n",
            "   creating: content/LibriSpeech/test-gram/0/\n",
            "  inflating: content/LibriSpeech/test-gram/0/5e11817b598748fd84be80c3abb32634.png  \n",
            "  inflating: content/LibriSpeech/test-gram/0/a46e758ba80d4a83abfc599553b3d8bb.png  \n",
            "  inflating: content/LibriSpeech/test-gram/0/718064d15ad3438fb02269615fee3a09.png  \n",
            "  inflating: content/LibriSpeech/test-gram/0/43e8338d2b82446aa73c336bb2db2d4d.png  \n",
            "  inflating: content/LibriSpeech/test-gram/0/f4abf8f74d474bbcbef24dc5cff307c4.png  \n",
            "  inflating: content/LibriSpeech/test-gram/0/ffd151c4469e4417b249d45e39863b4b.png  \n",
            "  inflating: content/LibriSpeech/test-gram/0/82b91187ca734ad4991dfc89cc35f472.png  \n",
            "  inflating: content/LibriSpeech/test-gram/0/3f29da41ffa5411eb55137c85c1f0577.png  \n",
            "  inflating: content/LibriSpeech/test-gram/0/7b56ab31d75749edb497318041176822.png  \n",
            "  inflating: content/LibriSpeech/test-gram/0/d5d45dbb5cbd439c9e2a65b4228cea75.png  \n",
            "  inflating: content/LibriSpeech/test-gram/0/f537328a6866479ea6432c3e49013418.png  \n",
            "  inflating: content/LibriSpeech/test-gram/0/4aed08ccd1574e6184ce6696a11b0b2e.png  \n",
            "  inflating: content/LibriSpeech/test-gram/0/3eabe5197ed74de8b5fb77a50ff7b8a0.png  \n",
            "  inflating: content/LibriSpeech/test-gram/0/81386d06c16b4055a0f1659420be6a97.png  \n",
            "  inflating: content/LibriSpeech/test-gram/0/c8c4e0dffc3246e6b811e96e08d2e76d.png  \n",
            "  inflating: content/LibriSpeech/test-gram/0/61d41fafb9a0450680f515355a64a937.png  \n",
            "  inflating: content/LibriSpeech/test-gram/0/fd8d2c35192645bb862b79319bc53dc1.png  \n",
            "  inflating: content/LibriSpeech/test-gram/0/0f8afae828484ac5898f347267718fc2.png  \n",
            "  inflating: content/LibriSpeech/test-gram/0/f70101d2f83a4e74b8b4aff5f9f641dd.png  \n",
            "  inflating: content/LibriSpeech/test-gram/0/648ba3fd0c554f228fbf07da351b6961.png  \n",
            "  inflating: content/LibriSpeech/test-gram/0/3c7e7538311048f9b42aa256a232ae7f.png  \n",
            "  inflating: content/LibriSpeech/test-gram/0/11771d4cb6fc4865b26c0c63d7866936.png  \n",
            "  inflating: content/LibriSpeech/test-gram/0/9e228e1024b64fb0b4b5e710284b5195.png  \n",
            "  inflating: content/LibriSpeech/test-gram/0/a62adeb62a784cd7a1623d9e7604fcde.png  \n",
            "  inflating: content/LibriSpeech/test-gram/0/1d67f3e8436b4f9195c0e549a27207d8.png  \n",
            "  inflating: content/LibriSpeech/test-gram/0/ec05a692d7c64fdfa757e12a68c20815.png  \n",
            "  inflating: content/LibriSpeech/test-gram/0/cf82d3d546c042edba2edbdeaa383729.png  \n",
            "  inflating: content/LibriSpeech/test-gram/0/105b722a6df64af58e845c81e765b6b4.png  \n",
            "  inflating: content/LibriSpeech/test-gram/0/e679ffce153c4b70abc0dbca72a62199.png  \n",
            "  inflating: content/LibriSpeech/test-gram/0/8b3eba9f11e943d68207fbdd219c87de.png  \n",
            "  inflating: content/LibriSpeech/test-gram/0/55662f175c7d4cd8a20d539a460af5e8.png  \n",
            "  inflating: content/LibriSpeech/test-gram/0/10ed409b9322496b80852ecc3dfece38.png  \n",
            "  inflating: content/LibriSpeech/test-gram/0/2592aec1817c4b19ac76b8f28e0170d7.png  \n",
            "  inflating: content/LibriSpeech/test-gram/0/174b1a79358e4462abf2075474da633e.png  \n",
            "  inflating: content/LibriSpeech/test-gram/0/629b42779f0a46b8acfff4266b54ad0f.png  \n",
            "  inflating: content/LibriSpeech/test-gram/0/38888f5161e34b95b5f378589bb36fe0.png  \n",
            "  inflating: content/LibriSpeech/test-gram/0/3cdccc01405e4fd99b62f4bbba4d4a5d.png  \n",
            "  inflating: content/LibriSpeech/test-gram/0/0dfe0ce0d9e84af29ef7b1aaf338f42d.png  \n",
            "  inflating: content/LibriSpeech/test-gram/0/6358153d393d4d51a39748574e8fb4d3.png  \n",
            "  inflating: content/LibriSpeech/test-gram/0/eaa8948c01f94bd88c3092c8a1a29268.png  \n",
            "  inflating: content/LibriSpeech/test-gram/0/b1e1efb2eaad491da0b3ad7e18b42fc6.png  \n",
            "  inflating: content/LibriSpeech/test-gram/0/1e703448746b42caa726950f5cd48369.png  \n",
            "  inflating: content/LibriSpeech/test-gram/0/4eae043f096e41cb98d4bd7cb426cc2e.png  \n",
            "  inflating: content/LibriSpeech/test-gram/0/b9af965aaf1344f3ab3ed2e45b696c6d.png  \n",
            "  inflating: content/LibriSpeech/test-gram/0/3ad8a57e55334657b1f724712a625783.png  \n",
            "  inflating: content/LibriSpeech/test-gram/0/8356b85b64384bef9a4aacd53cbb7bf6.png  \n",
            "  inflating: content/LibriSpeech/test-gram/0/c98ae26219084545bc7c3778200b2967.png  \n",
            "  inflating: content/LibriSpeech/test-gram/0/16fcc76922564582a047dd9e611b0e2b.png  \n",
            "  inflating: content/LibriSpeech/test-gram/0/56a23f5d3de4434c9046ad6595edabd1.png  \n",
            "  inflating: content/LibriSpeech/test-gram/0/5b621e98be624c40bdc8ced0f7990aa3.png  \n",
            "  inflating: content/LibriSpeech/test-gram/0/5d804c0fd6f74b39bc78341e5d59bec0.png  \n",
            "  inflating: content/LibriSpeech/test-gram/0/56fba0a52ba94d1781f13c41fe4266e7.png  \n",
            "  inflating: content/LibriSpeech/test-gram/0/a2effdff08a1485ba5f0ab7bcb6c44d2.png  \n",
            "  inflating: content/LibriSpeech/test-gram/0/0772b72d818a4623b6003c94ba50d6be.png  \n",
            "  inflating: content/LibriSpeech/test-gram/0/91b918ecf4414571abca4c6ec3a54303.png  \n",
            "  inflating: content/LibriSpeech/test-gram/0/0ce90ad6bebb45b0bcfdaa35780e9a6c.png  \n",
            "  inflating: content/LibriSpeech/test-gram/0/5e8c6adeb92d41d9814cb77a89c3882a.png  \n",
            "  inflating: content/LibriSpeech/test-gram/0/e0ba3f4d86204cba8789e53d9ade265e.png  \n",
            "  inflating: content/LibriSpeech/test-gram/0/b5225614140e4f86ab8e937f07902897.png  \n",
            "  inflating: content/LibriSpeech/test-gram/0/716cf09815bc4997bffdf4f51099a150.png  \n",
            "  inflating: content/LibriSpeech/test-gram/0/338a8c5aaecd4214b08de1145bd133fb.png  \n",
            "  inflating: content/LibriSpeech/test-gram/0/452b0f85ccc74abc95feea749ccb6a3b.png  \n",
            "  inflating: content/LibriSpeech/test-gram/0/27e9f9f3d5cf4b12b8ede7a703a966ad.png  \n",
            "  inflating: content/LibriSpeech/test-gram/0/aa5f6c524d8241d29c1826d6b9d19958.png  \n",
            "  inflating: content/LibriSpeech/test-gram/0/8c6f161226b444d5b27e91202fb753f1.png  \n",
            "  inflating: content/LibriSpeech/test-gram/0/11bb05cf93d74e9cb33493eff71d9083.png  \n",
            "  inflating: content/LibriSpeech/test-gram/0/656c88094d724d7588dadeb224c45548.png  \n",
            "  inflating: content/LibriSpeech/test-gram/0/1f7359a1ee714674a8a7e0cf330d4d58.png  \n",
            "  inflating: content/LibriSpeech/test-gram/0/7b237762c4304829b51a4d60fcd6370d.png  \n",
            "  inflating: content/LibriSpeech/test-gram/0/e8092f53858c49668390e0ea955910a7.png  \n",
            "  inflating: content/LibriSpeech/test-gram/0/458e8ec2fe714145a91495eec9d18292.png  \n",
            "  inflating: content/LibriSpeech/test-gram/0/e680a60ae03f476b8ded2dade8567c82.png  \n",
            "   creating: content/LibriSpeech/test-gram/9/\n",
            "  inflating: content/LibriSpeech/test-gram/9/86cc9ecfc9dd4cc49cfa3d785362669d.png  \n",
            "  inflating: content/LibriSpeech/test-gram/9/a9e65f487b6a463e8857552efc7c1bf2.png  \n",
            "  inflating: content/LibriSpeech/test-gram/9/2bd53c0a56834e9cac9b82d2e23835b3.png  \n",
            "  inflating: content/LibriSpeech/test-gram/9/d8a9008c33574c2aa084bee5b178ca37.png  \n",
            "  inflating: content/LibriSpeech/test-gram/9/a50f8701675e4051b92d70679b2e13a1.png  \n",
            "  inflating: content/LibriSpeech/test-gram/9/9b3ad9f5410b4e89a5842b0a26fd32d2.png  \n",
            "  inflating: content/LibriSpeech/test-gram/9/9c66581b63314ba190f51cceea4792d2.png  \n",
            "  inflating: content/LibriSpeech/test-gram/9/d672df99983f4ab38e012ad9bd25b287.png  \n",
            "  inflating: content/LibriSpeech/test-gram/9/76864a7c83a049edbdad8d1d131b6757.png  \n",
            "  inflating: content/LibriSpeech/test-gram/9/43d3f03c0aa34e00a6cf93f4cbbf629b.png  \n",
            "  inflating: content/LibriSpeech/test-gram/9/041cc044df884268b6ea812ccd8366f4.png  \n",
            "  inflating: content/LibriSpeech/test-gram/9/f408ab4e25534330b13f64aedb84785a.png  \n",
            "  inflating: content/LibriSpeech/test-gram/9/a1bdb5062eba47ff8d35b7f0730f576b.png  \n",
            "  inflating: content/LibriSpeech/test-gram/9/e7704ddd8d8245be856119aed7219195.png  \n",
            "  inflating: content/LibriSpeech/test-gram/9/e8f4a668fd6d4f85ab1890a8fbf74542.png  \n",
            "  inflating: content/LibriSpeech/test-gram/9/d0a36c5b9cbf412a85dc89ed331ef3e4.png  \n",
            "  inflating: content/LibriSpeech/test-gram/9/f3d067a8b2094661a8773fddb9a1a2f7.png  \n",
            "  inflating: content/LibriSpeech/test-gram/9/526f27d3fd2747f8b1a9f781aef444b2.png  \n",
            "  inflating: content/LibriSpeech/test-gram/9/1b63d94e1e674796a27c4583e73e28f0.png  \n",
            "  inflating: content/LibriSpeech/test-gram/9/d7aa2ce5904e4913bf13f69e849c96b6.png  \n",
            "  inflating: content/LibriSpeech/test-gram/9/1c66e59c84b64fcab4cccb621f8d0f6e.png  \n",
            "  inflating: content/LibriSpeech/test-gram/9/5529821331af4b9087127f2a06d3f671.png  \n",
            "  inflating: content/LibriSpeech/test-gram/9/4048062803274b8687536760785bc994.png  \n",
            "  inflating: content/LibriSpeech/test-gram/9/243477805a1743cd87a80ee5ee10a41a.png  \n",
            "  inflating: content/LibriSpeech/test-gram/9/07c7496b60c9489aab16f611ff1ff89c.png  \n",
            "  inflating: content/LibriSpeech/test-gram/9/faec8fefbd27490d8bc2054040ce3a91.png  \n",
            "  inflating: content/LibriSpeech/test-gram/9/0fbb95c77d8b4596ae91070d50026a98.png  \n",
            "  inflating: content/LibriSpeech/test-gram/9/90a732dab9434d11a8896ac590b78d67.png  \n",
            "  inflating: content/LibriSpeech/test-gram/9/64b02f11b80c4d56bfc059360b6c512b.png  \n",
            "  inflating: content/LibriSpeech/test-gram/9/437091a4be534658a30c3eb092038491.png  \n",
            "  inflating: content/LibriSpeech/test-gram/9/a0fa1190828146afaa7591139aed0d2b.png  \n",
            "  inflating: content/LibriSpeech/test-gram/9/534f16195c17447db66d4c2cfcb9aacf.png  \n",
            "  inflating: content/LibriSpeech/test-gram/9/e127816065374ea3b4854230e2dee530.png  \n",
            "  inflating: content/LibriSpeech/test-gram/9/c4a2819c0e964d30a5a264310e1f1190.png  \n",
            "  inflating: content/LibriSpeech/test-gram/9/a54a5ecb57254a20be5eeb379a54b526.png  \n",
            "  inflating: content/LibriSpeech/test-gram/9/337dc4bb26fd49c9a7c615d58ae993aa.png  \n",
            "  inflating: content/LibriSpeech/test-gram/9/55d7ffc82e16431ab5ffc453de7b2d4a.png  \n",
            "  inflating: content/LibriSpeech/test-gram/9/b3d5b52fb5d148c9ba7b398cfeff02fa.png  \n",
            "  inflating: content/LibriSpeech/test-gram/9/1f319dc96d2842f6969a0867d086085d.png  \n",
            "  inflating: content/LibriSpeech/test-gram/9/6af990eb51cf4e88abf4847360cde745.png  \n",
            "  inflating: content/LibriSpeech/test-gram/9/5eb653303bf440ee8795fd46946d6e01.png  \n",
            "  inflating: content/LibriSpeech/test-gram/9/106a654de00d4d76894360d72ec96ce9.png  \n",
            "  inflating: content/LibriSpeech/test-gram/9/afb69ba76100423a87ea75be6f17335e.png  \n",
            "  inflating: content/LibriSpeech/test-gram/9/edb6d1aa69c24ee9950253da48493ad5.png  \n",
            "  inflating: content/LibriSpeech/test-gram/9/58b3ee813aec4faaab01909fa141a1ca.png  \n",
            "  inflating: content/LibriSpeech/test-gram/9/c2fe6a9b7edd4b29a4796bd34ac5cf47.png  \n",
            "  inflating: content/LibriSpeech/test-gram/9/a5cb7044976b45fab3a8fbbeee4dbc70.png  \n",
            "  inflating: content/LibriSpeech/test-gram/9/f8dda3738b9c4841a646eb7fdab7f854.png  \n",
            "  inflating: content/LibriSpeech/test-gram/9/f2edcfd4b41e40f094950cbd516e9e97.png  \n",
            "  inflating: content/LibriSpeech/test-gram/9/cc612f79937e410a9e51e8a420deee4c.png  \n",
            "  inflating: content/LibriSpeech/test-gram/9/c32efae484bd4f279a8d1bdf8ac6717c.png  \n",
            "  inflating: content/LibriSpeech/test-gram/9/3714f51555a44401bf6da1f149692dca.png  \n",
            "  inflating: content/LibriSpeech/test-gram/9/4318334989c04e65bdc487ec164d3532.png  \n",
            "  inflating: content/LibriSpeech/test-gram/9/625672f685e14731b74599592536befa.png  \n",
            "  inflating: content/LibriSpeech/test-gram/9/6e0c6bf343fc47759e95c84c64a503fe.png  \n",
            "  inflating: content/LibriSpeech/test-gram/9/643e7c7d81d844d9a6e2d1da547800a8.png  \n",
            "  inflating: content/LibriSpeech/test-gram/9/74427b568c9c47ac80e2eb9a14a835a6.png  \n",
            "  inflating: content/LibriSpeech/test-gram/9/173fafa9859c4d409512ae532815c640.png  \n",
            "  inflating: content/LibriSpeech/test-gram/9/204c39ca5bb1434197897304c9b0628c.png  \n",
            "  inflating: content/LibriSpeech/test-gram/9/d390b78717d44122b8aa5e20eb64d559.png  \n",
            "  inflating: content/LibriSpeech/test-gram/9/b56a2289d6804e3c9bc924c7a0158e55.png  \n",
            "  inflating: content/LibriSpeech/test-gram/9/523e9dc59ff04fd1a4452a449dc9c939.png  \n",
            "   creating: content/LibriSpeech/test-gram/6/\n",
            "  inflating: content/LibriSpeech/test-gram/6/00d3e86f1110483c93dbfc5335f14e2a.png  \n",
            "  inflating: content/LibriSpeech/test-gram/6/6af999c8d7d549a38a0f970a29cf6b98.png  \n",
            "  inflating: content/LibriSpeech/test-gram/6/a5662f51fbc445edacc02fe92977a59e.png  \n",
            "  inflating: content/LibriSpeech/test-gram/6/717c5a99ad104983931df4dd44717a5f.png  \n",
            "  inflating: content/LibriSpeech/test-gram/6/c906be2d4e2f4a3e9c50939b2d937e10.png  \n",
            "  inflating: content/LibriSpeech/test-gram/6/2ab363ebb140488fba31f8ec5d55bc36.png  \n",
            "  inflating: content/LibriSpeech/test-gram/6/06647a9b98fc47fba3bfdb428af3fad3.png  \n",
            "  inflating: content/LibriSpeech/test-gram/6/0fb8180618e1457cb68b4f952a6b3ad9.png  \n",
            "  inflating: content/LibriSpeech/test-gram/6/d5df1cc136a64c208fd9b7d5900a022b.png  \n",
            "  inflating: content/LibriSpeech/test-gram/6/1989768e511f4d49b12650cc00dd0a0c.png  \n",
            "  inflating: content/LibriSpeech/test-gram/6/824f9cb6d8294d1299089904c9465606.png  \n",
            "  inflating: content/LibriSpeech/test-gram/6/fbf7d2de04174e9f8788fe5e73b0ac78.png  \n",
            "  inflating: content/LibriSpeech/test-gram/6/28d35c9e6c8345488f56b4a09c55ef10.png  \n",
            "  inflating: content/LibriSpeech/test-gram/6/735730f9d53047b8894471c91a04de5d.png  \n",
            "  inflating: content/LibriSpeech/test-gram/6/db1b41efa97d44b087d6b5018b763048.png  \n",
            "  inflating: content/LibriSpeech/test-gram/6/c0fd2a6c5a4e4e3c9a15aef249be5507.png  \n",
            "  inflating: content/LibriSpeech/test-gram/6/4130b8d684f24cb785191494ef87402d.png  \n",
            "  inflating: content/LibriSpeech/test-gram/6/5de8f3e709b14fdd94a3696adbd00720.png  \n",
            "  inflating: content/LibriSpeech/test-gram/6/cddeb5437db64a7dbaf0feb0e2837a33.png  \n",
            "  inflating: content/LibriSpeech/test-gram/6/7a44efb50dc2451dba4b4a94650801bc.png  \n",
            "  inflating: content/LibriSpeech/test-gram/6/2a98361d9bc34b3eb6ac2c5c773718e7.png  \n",
            "  inflating: content/LibriSpeech/test-gram/6/aa8db2960d544db6a096cfb104c0fefe.png  \n",
            "  inflating: content/LibriSpeech/test-gram/6/c22697a482574022b97cb5dd54350592.png  \n",
            "  inflating: content/LibriSpeech/test-gram/6/969a295f51df4e598e32320e05fe6f4b.png  \n",
            "  inflating: content/LibriSpeech/test-gram/6/4eb64c2c3d3549ffb540dc54d9ce4caa.png  \n",
            "  inflating: content/LibriSpeech/test-gram/6/5b98c0dffd974434930b49be747885ef.png  \n",
            "  inflating: content/LibriSpeech/test-gram/6/6a6977402873494a90bfd434e753cbeb.png  \n",
            "  inflating: content/LibriSpeech/test-gram/6/f106e28c252f453a95d169fa2ca624d0.png  \n",
            "  inflating: content/LibriSpeech/test-gram/6/1578719fbdb54a65803d0a340d01b34c.png  \n",
            "  inflating: content/LibriSpeech/test-gram/6/ac47e679b29c4651bfc9ca519e0b80e0.png  \n",
            "  inflating: content/LibriSpeech/test-gram/6/242109af05584a7394c1aafafbab3ab3.png  \n",
            "  inflating: content/LibriSpeech/test-gram/6/b25ec7f7f24345adb7de96500ba67ee8.png  \n",
            "  inflating: content/LibriSpeech/test-gram/6/6659d59fd028450a96cb1eef479a5302.png  \n",
            "  inflating: content/LibriSpeech/test-gram/6/cf2e054d6c05456d8cad436e611bae3b.png  \n",
            "  inflating: content/LibriSpeech/test-gram/6/100e760df4cd473497e9de40225f4d42.png  \n",
            "  inflating: content/LibriSpeech/test-gram/6/8fc791cdead14c3b9c36a7365f8b8df6.png  \n",
            "  inflating: content/LibriSpeech/test-gram/6/88d1cb4b0ee74635878fc94027c2b381.png  \n",
            "  inflating: content/LibriSpeech/test-gram/6/bdf14f4edf4948be9c1b2267fb15cb13.png  \n",
            "  inflating: content/LibriSpeech/test-gram/6/170806d5ad874e9897fec52e042a8f30.png  \n",
            "  inflating: content/LibriSpeech/test-gram/6/22ca8858e8694adeb6e39d4e899eec95.png  \n",
            "  inflating: content/LibriSpeech/test-gram/6/dbf727c4eb35418f80f3678b43b61e13.png  \n",
            "  inflating: content/LibriSpeech/test-gram/6/c07ffc3a7f9f4eb59f816c1825323cd6.png  \n",
            "  inflating: content/LibriSpeech/test-gram/6/78bc515aea53446bb5be4f0059205a9f.png  \n",
            "  inflating: content/LibriSpeech/test-gram/6/7fa432cf29a04998b0b0b8545b25f648.png  \n",
            "  inflating: content/LibriSpeech/test-gram/6/3caddbe1f07a49779d6a190aa6977c83.png  \n",
            "  inflating: content/LibriSpeech/test-gram/6/ca34075bb369409281ebf6f2ca86a3b3.png  \n",
            "  inflating: content/LibriSpeech/test-gram/6/e1f90d53e9cb4cdd94056a9720c617a6.png  \n",
            "  inflating: content/LibriSpeech/test-gram/6/2b3bb2544afa4c8a8ea776f4632e3f79.png  \n",
            "  inflating: content/LibriSpeech/test-gram/6/f898a9cae5c442d6a70e1e2cbcda614e.png  \n",
            "  inflating: content/LibriSpeech/test-gram/6/57ea8f19f7e5458e934f575dc9a9e6f2.png  \n",
            "  inflating: content/LibriSpeech/test-gram/6/f866fc35e1e640c386bd97982d74e142.png  \n",
            "  inflating: content/LibriSpeech/test-gram/6/0675b4a46cf34085980883196cfb8a54.png  \n",
            "  inflating: content/LibriSpeech/test-gram/6/e033f501b94c446ba967a7ebd9509aed.png  \n",
            "  inflating: content/LibriSpeech/test-gram/6/630a4314c9b649678a4ecb2ef12be039.png  \n",
            "  inflating: content/LibriSpeech/test-gram/6/4dd467dc243c49d1bee67e518f8cd49e.png  \n",
            "  inflating: content/LibriSpeech/test-gram/6/a8522b32a5ab4112b1648406236d092f.png  \n",
            "  inflating: content/LibriSpeech/test-gram/6/7ae88b1d981f4379a4bed45a4fd4b49d.png  \n",
            "  inflating: content/LibriSpeech/test-gram/6/08ceec56c43f404eac5cdb7b4f323c6c.png  \n",
            "  inflating: content/LibriSpeech/test-gram/6/0c493140bf914a159bfd8284737678b4.png  \n",
            "  inflating: content/LibriSpeech/test-gram/6/3aaad22ba7ec486397fd601b73c607b1.png  \n",
            "  inflating: content/LibriSpeech/test-gram/6/33fd0d6e404c477591931a1c5fd6d65c.png  \n",
            "  inflating: content/LibriSpeech/test-gram/6/24f4ed3e590c4af6bb0790c11c846b00.png  \n",
            "  inflating: content/LibriSpeech/test-gram/6/2692e098cf81484ab2a0c65f5d363a1b.png  \n",
            "  inflating: content/LibriSpeech/test-gram/6/5bfc3073616246259bc2a33897532438.png  \n",
            "  inflating: content/LibriSpeech/test-gram/6/c16b54ed6ca24e9a80b0109bd196ac99.png  \n",
            "   creating: content/LibriSpeech/test-gram/7/\n",
            "  inflating: content/LibriSpeech/test-gram/7/bd0b041f4ace4ac88856ddec6b7dbda4.png  \n",
            "  inflating: content/LibriSpeech/test-gram/7/e9910eb953644f7896437891cf6a74f8.png  \n",
            "  inflating: content/LibriSpeech/test-gram/7/bdf7c11ad1924d8094e1299f34c62cef.png  \n",
            "  inflating: content/LibriSpeech/test-gram/7/cf9cc95eacc24a7d902e8b2472de20a1.png  \n",
            "  inflating: content/LibriSpeech/test-gram/7/426d9ee5322146adaf2d27ff239b2ef3.png  \n",
            "  inflating: content/LibriSpeech/test-gram/7/cf78ddff94eb4a31b1671bae5b930054.png  \n",
            "  inflating: content/LibriSpeech/test-gram/7/ca416c4e724f40e1baeb809aeedfcc3e.png  \n",
            "  inflating: content/LibriSpeech/test-gram/7/a61d8e618788424bbfd767ade59bc193.png  \n",
            "  inflating: content/LibriSpeech/test-gram/7/135a0fda35e640858f11a92e30afe518.png  \n",
            "  inflating: content/LibriSpeech/test-gram/7/367c92538575477caa7b5896651c31cd.png  \n",
            "  inflating: content/LibriSpeech/test-gram/7/6930f43b77794608a856d1618da8b432.png  \n",
            "  inflating: content/LibriSpeech/test-gram/7/0d75aee5c1e8469b9a49a80db78affe7.png  \n",
            "  inflating: content/LibriSpeech/test-gram/7/b779e14418034970b84f460556450ee3.png  \n",
            "  inflating: content/LibriSpeech/test-gram/7/6c964596607247e5a6efbc12c650775d.png  \n",
            "  inflating: content/LibriSpeech/test-gram/7/814f75b354264cacaad1ef15f9f35db9.png  \n",
            "  inflating: content/LibriSpeech/test-gram/7/d30bb8124bab4dfca9b5e5e36356fb2e.png  \n",
            "  inflating: content/LibriSpeech/test-gram/7/f1dbee803c9046c3829309ba2555baaf.png  \n",
            "  inflating: content/LibriSpeech/test-gram/7/ee08ec212bab435f8e1a62a071eb785d.png  \n",
            "  inflating: content/LibriSpeech/test-gram/7/d6243bb4492a494aa99a5eff74615b7f.png  \n",
            "  inflating: content/LibriSpeech/test-gram/7/b557f83dcc9949d0b377147665da2b93.png  \n",
            "  inflating: content/LibriSpeech/test-gram/7/1d044ce0529a4305bf7c5a870bfd14fb.png  \n",
            "  inflating: content/LibriSpeech/test-gram/7/669ec324dd0c4e33bfc5184f0a8c18a2.png  \n",
            "  inflating: content/LibriSpeech/test-gram/7/59be1ac097da416e889765749f81a0e4.png  \n",
            "  inflating: content/LibriSpeech/test-gram/7/e72fc69d66b34bffaf42a98c9800cce0.png  \n",
            "  inflating: content/LibriSpeech/test-gram/7/dcc53da61ae64ad89eb88db05449a064.png  \n",
            "  inflating: content/LibriSpeech/test-gram/7/df2e65d5f7bc43b28151e2923860ea02.png  \n",
            "  inflating: content/LibriSpeech/test-gram/7/23172c2845154b7b83e9bdeb6d4de4af.png  \n",
            "  inflating: content/LibriSpeech/test-gram/7/3c198168da49458bbbd72f6b9b3938ef.png  \n",
            "  inflating: content/LibriSpeech/test-gram/7/01be7ee2194a42c4a17bbaceb001497d.png  \n",
            "  inflating: content/LibriSpeech/test-gram/7/cab1cda4219c4f8480a1e60df3d57818.png  \n",
            "  inflating: content/LibriSpeech/test-gram/7/da93484764824055a0135b0126a01ebe.png  \n",
            "  inflating: content/LibriSpeech/test-gram/7/5f58258b245f47ecb19af7636a21b520.png  \n",
            "  inflating: content/LibriSpeech/test-gram/7/2d7b36d1695a4a5bb40ef10dd4b71d3a.png  \n",
            "  inflating: content/LibriSpeech/test-gram/7/07b3b9db7474427f813d41d09a142402.png  \n",
            "  inflating: content/LibriSpeech/test-gram/7/9902a8be29464665990bd2431e468ccc.png  \n",
            "  inflating: content/LibriSpeech/test-gram/7/3c24117490c64bcfa294e2636e0b1762.png  \n",
            "  inflating: content/LibriSpeech/test-gram/7/9330b0d72e7b46d78afee23ce54291da.png  \n",
            "  inflating: content/LibriSpeech/test-gram/7/815211df604e4106ac2aeb6ace96ab83.png  \n",
            "  inflating: content/LibriSpeech/test-gram/7/8d27c912be69457a96759a369549fa7b.png  \n",
            "  inflating: content/LibriSpeech/test-gram/7/c89b21dc3ece4df2b8e941e6f2c68478.png  \n",
            "  inflating: content/LibriSpeech/test-gram/7/64851615f4ed495d9ede9ce23b83402d.png  \n",
            "  inflating: content/LibriSpeech/test-gram/7/29e3fbed2c24400fbed9f08f09185faf.png  \n",
            "  inflating: content/LibriSpeech/test-gram/7/df8cc6d178e84b4ead7042bb733d6f1d.png  \n",
            "  inflating: content/LibriSpeech/test-gram/7/49fbc368e710457193a6aaa42c3d606c.png  \n",
            "  inflating: content/LibriSpeech/test-gram/7/7aa93c353c5d478592aac3311fe4ea5b.png  \n",
            "  inflating: content/LibriSpeech/test-gram/7/2b4fff4c9d6c4061aa4f4752d1310d07.png  \n",
            "  inflating: content/LibriSpeech/test-gram/7/45911ce579b44d9c953a8f737bc66a4b.png  \n",
            "  inflating: content/LibriSpeech/test-gram/7/f6c6fa0ad34141cd990bd13825bdd493.png  \n"
          ]
        }
      ]
    },
    {
      "cell_type": "markdown",
      "source": [
        "## Evaluation"
      ],
      "metadata": {
        "id": "MGs2nsEtNkDE"
      }
    },
    {
      "cell_type": "code",
      "source": [
        "%matplotlib inline\n",
        "import os\n",
        "import sys\n",
        "sys.path.append(\"/content/MajorProject_SpeechUnderstanding\")\n",
        "import numpy as np\n",
        "import random\n",
        "import matplotlib.pyplot as plt\n",
        "from time import time\n",
        "\n",
        "import torchvision\n",
        "import torchvision.datasets as dataset\n",
        "import torchvision.transforms as transforms\n",
        "import torchvision.utils\n",
        "\n",
        "import torch\n",
        "from torch.autograd import Variable\n",
        "import torch.nn as nn\n",
        "from torch import optim\n",
        "import torch.nn.functional as F\n",
        "from torch.utils.data import DataLoader,Dataset\n",
        "\n",
        "from utils import imshow,show_plot,plotting,Config\n",
        "from custom_dataset import CustomDataset\n",
        "from model import SiameseNetwork\n",
        "from loss import CustomCrossEntropyLoss\n",
        "from train import train_model\n",
        "from eval import evaluate_model\n",
        "\n",
        "\n",
        "print('Version', torch.__version__)\n",
        "print('CUDA enabled:', torch.cuda.is_available())\n",
        "\n",
        "if __name__ ==\"__main__\" :\n",
        "\n",
        "  device = torch.device(\"cuda\" if torch.cuda.is_available() else \"cpu\")\n",
        "  trained_model_path = '/content/drive/MyDrive/Speech Understanding/A3/siamese_net_crossEntropy.pt'\n",
        "\n",
        "  ## Train and Test Datasets and Dataloaders\n",
        "\n",
        "  folder_dataset_test = dataset.ImageFolder(root=\"/content/content/LibriSpeech/test-gram\")\n",
        "  test_dataset = CustomDataset(imageFolderDataset=folder_dataset_test,\n",
        "                                          transform=transforms.Compose([#transforms.Resize((100,100)),\n",
        "                                                                        transforms.ToTensor()\n",
        "                                                                        ])\n",
        "                                        ,should_invert=False)\n",
        "\n",
        "  test_dataloader = DataLoader(test_dataset, batch_size=256, shuffle=False)\n",
        "\n",
        "  ## Model , Loss and Optimizer Initialization\n",
        "  model = SiameseNetwork().to(device)\n",
        "  model.load_state_dict(torch.load(trained_model_path,map_location=torch.device('cpu')))\n"
      ],
      "metadata": {
        "colab": {
          "base_uri": "https://localhost:8080/"
        },
        "id": "hKPIsO8m8J7h",
        "outputId": "ee16cdbb-8d90-419b-bee6-9fb15e8b3ffc"
      },
      "execution_count": 7,
      "outputs": [
        {
          "output_type": "stream",
          "name": "stdout",
          "text": [
            "Version 2.2.1+cu121\n",
            "CUDA enabled: False\n"
          ]
        }
      ]
    },
    {
      "cell_type": "code",
      "source": [
        "from tqdm import tqdm\n",
        "import torch.nn as nn\n",
        "model_scores = []\n",
        "target_label_list = []\n",
        "with torch.no_grad():\n",
        "    for batch_idx, (input_data0, input_data1, target_label) in enumerate(tqdm(test_dataloader)):\n",
        "        input_data0, input_data1, target_label = input_data0.to(device), input_data1.to(device), target_label.to(device)\n",
        "        model_output = model(input_data0, input_data1)\n",
        "        model_scores.extend(model_output[:,1].numpy())\n",
        "        target_label_list.extend(list(target_label.numpy()))"
      ],
      "metadata": {
        "colab": {
          "base_uri": "https://localhost:8080/"
        },
        "id": "zkgqR2Ox88xu",
        "outputId": "112dc440-c99b-4bc9-fd8b-640fa2287763"
      },
      "execution_count": 43,
      "outputs": [
        {
          "output_type": "stream",
          "name": "stderr",
          "text": [
            "100%|██████████| 3/3 [00:35<00:00, 12.00s/it]\n"
          ]
        }
      ]
    },
    {
      "cell_type": "code",
      "source": [
        "from sklearn.metrics import det_curve,RocCurveDisplay,auc,roc_curve\n",
        "\n",
        "## EER\n",
        "def compute_eer(truth, scores):\n",
        "  frr, far, th = det_curve(truth, scores)\n",
        "  abs_diffs = np.abs(frr - far)\n",
        "  min_index = np.argmin(abs_diffs)\n",
        "  eer = np.mean((frr[min_index], far[min_index]))\n",
        "  return eer\n",
        "\n",
        "\n",
        "## ROC - AUC\n",
        "def plot_roc_curve_with_auc(truth, scores):\n",
        "  fpr, tpr, thresholds = roc_curve(truth,scores)\n",
        "  roc_auc = auc(fpr, tpr)\n",
        "  display = RocCurveDisplay(fpr=fpr, tpr=tpr, roc_auc=roc_auc,estimator_name='example estimator')\n",
        "  display.plot()\n",
        "  plt.title(\"ROC curve with AUC score : \")\n",
        "  plt.show()"
      ],
      "metadata": {
        "id": "i6-VqFD5881B"
      },
      "execution_count": 47,
      "outputs": []
    },
    {
      "cell_type": "code",
      "source": [
        "compute_eer(target_label_list,model_scores)"
      ],
      "metadata": {
        "colab": {
          "base_uri": "https://localhost:8080/"
        },
        "id": "ARksPMySAF1K",
        "outputId": "99d1d9af-fcca-4d05-d4ef-85f986aa31d7"
      },
      "execution_count": 48,
      "outputs": [
        {
          "output_type": "execute_result",
          "data": {
            "text/plain": [
              "0.19784603302302417"
            ]
          },
          "metadata": {},
          "execution_count": 48
        }
      ]
    },
    {
      "cell_type": "code",
      "source": [
        "plot_roc_curve_with_auc(target_label_list,model_scores)"
      ],
      "metadata": {
        "colab": {
          "base_uri": "https://localhost:8080/",
          "height": 472
        },
        "id": "UcBsol30883o",
        "outputId": "4ec63f6f-e8ee-47e6-dc43-6d4229a6685c"
      },
      "execution_count": 49,
      "outputs": [
        {
          "output_type": "display_data",
          "data": {
            "text/plain": [
              "<Figure size 640x480 with 1 Axes>"
            ],
            "image/png": "[encoded data removed]"
          },
          "metadata": {}
        }
      ]
    },
    {
      "cell_type": "code",
      "source": [],
      "metadata": {
        "id": "_xc4-K70886J"
      },
      "execution_count": null,
      "outputs": []
    },
    {
      "cell_type": "code",
      "source": [],
      "metadata": {
        "id": "vgcSVSmr8885"
      },
      "execution_count": null,
      "outputs": []
    },
    {
      "cell_type": "code",
      "source": [],
      "metadata": {
        "id": "SxpvLe8i88_S"
      },
      "execution_count": null,
      "outputs": []
    },
    {
      "cell_type": "code",
      "source": [
        "model.load_state_dict(torch.load(trained_model_path,map_location=torch.device('cpu')))"
      ],
      "metadata": {
        "colab": {
          "base_uri": "https://localhost:8080/"
        },
        "id": "hqkMvKCF8T-i",
        "outputId": "ccc1fc10-fe14-430d-8147-cf2ddd65f522"
      },
      "execution_count": 15,
      "outputs": [
        {
          "output_type": "execute_result",
          "data": {
            "text/plain": [
              "<All keys matched successfully>"
            ]
          },
          "metadata": {},
          "execution_count": 15
        }
      ]
    },
    {
      "cell_type": "code",
      "source": [
        "  criterion = CustomCrossEntropyLoss().to(device)\n",
        "  optimizer = optim.Adam(model.parameters(), lr = learning_rate)\n",
        "\n",
        "  ## Training Loop\n",
        "  train_loss_list = []\n",
        "  test_loss_list = []\n",
        "  train_accuracy_list = []\n",
        "  test_accuracy_list = []\n",
        "\n",
        "  for current_epoch in range(0, EPOCHS):\n",
        "      print(\"Epoch number: \", current_epoch)\n",
        "      start_time = time()\n",
        "\n",
        "      print(\"\\nTraining:\")\n",
        "      train_loss, train_accuracy = train_model(model, device, train_dataloader, current_epoch, optimizer, criterion)\n",
        "\n",
        "      print(\"\\nTesting:\")\n",
        "      test_loss, test_accuracy = evaluate_model(model, device, test_dataloader, criterion)\n",
        "\n",
        "      train_loss_list.append((current_epoch, train_loss))\n",
        "      test_loss_list.append((current_epoch, test_loss))\n",
        "      train_accuracy_list.append((current_epoch, train_accuracy))\n",
        "      test_accuracy_list.append((current_epoch, test_accuracy))\n",
        "\n",
        "      torch.save(model.state_dict(), 'siamese_net_crossEntropy.pt')\n",
        "      end_time = time()\n",
        "      print(\"Time taken for running epoch {} is {:.3f} seconds.\\n\\n\".format(current_epoch, end_time-start_time))\n"
      ],
      "metadata": {
        "colab": {
          "base_uri": "https://localhost:8080/"
        },
        "id": "Z-M4VMj59pxp",
        "outputId": "3ae11ab8-d5c5-4b59-8e3c-4f86ebe263d0"
      },
      "execution_count": null,
      "outputs": [
        {
          "output_type": "stream",
          "name": "stdout",
          "text": [
            "Version 2.2.1+cu121\n",
            "CUDA enabled: True\n",
            "Epoch number:  0\n",
            "\n",
            "Training:\n"
          ]
        },
        {
          "output_type": "stream",
          "name": "stderr",
          "text": [
            " 33%|███▎      | 1/3 [00:03<00:07,  3.82s/it]"
          ]
        },
        {
          "output_type": "stream",
          "name": "stdout",
          "text": [
            "Train Epoch: 0 [256/721 (33%)]\tLoss: 0.688421\tTrain Accuracy: 54.296875\n"
          ]
        },
        {
          "output_type": "stream",
          "name": "stderr",
          "text": [
            "100%|██████████| 3/3 [00:06<00:00,  2.25s/it]\n"
          ]
        },
        {
          "output_type": "stream",
          "name": "stdout",
          "text": [
            "\n",
            "Train set: Average loss = 7.5582, Train Accuracy = 51.7337\n",
            "\n",
            "\n",
            "Testing:\n"
          ]
        },
        {
          "output_type": "stream",
          "name": "stderr",
          "text": [
            "100%|██████████| 3/3 [00:04<00:00,  1.40s/it]\n"
          ]
        },
        {
          "output_type": "stream",
          "name": "stdout",
          "text": [
            "\n",
            "Test set: Average loss = 0.8186, Test Accuracy = 58.4235\n",
            "\n",
            "Time taken for running epoch 0 is 15.185 seconds.\n",
            "\n",
            "\n",
            "Epoch number:  1\n",
            "\n",
            "Training:\n"
          ]
        },
        {
          "output_type": "stream",
          "name": "stderr",
          "text": [
            " 33%|███▎      | 1/3 [00:02<00:04,  2.41s/it]"
          ]
        },
        {
          "output_type": "stream",
          "name": "stdout",
          "text": [
            "Train Epoch: 1 [256/721 (33%)]\tLoss: 7.955367\tTrain Accuracy: 45.703125\n"
          ]
        },
        {
          "output_type": "stream",
          "name": "stderr",
          "text": [
            "100%|██████████| 3/3 [00:05<00:00,  1.77s/it]\n"
          ]
        },
        {
          "output_type": "stream",
          "name": "stdout",
          "text": [
            "\n",
            "Train set: Average loss = 5.7571, Train Accuracy = 59.5007\n",
            "\n",
            "\n",
            "Testing:\n"
          ]
        },
        {
          "output_type": "stream",
          "name": "stderr",
          "text": [
            "100%|██████████| 3/3 [00:03<00:00,  1.15s/it]\n"
          ]
        },
        {
          "output_type": "stream",
          "name": "stdout",
          "text": [
            "\n",
            "Test set: Average loss = 1.5764, Test Accuracy = 59.5054\n",
            "\n",
            "Time taken for running epoch 1 is 13.058 seconds.\n",
            "\n",
            "\n",
            "Epoch number:  2\n",
            "\n",
            "Training:\n"
          ]
        },
        {
          "output_type": "stream",
          "name": "stderr",
          "text": [
            " 33%|███▎      | 1/3 [00:02<00:04,  2.36s/it]"
          ]
        },
        {
          "output_type": "stream",
          "name": "stdout",
          "text": [
            "Train Epoch: 2 [256/721 (33%)]\tLoss: 3.557266\tTrain Accuracy: 71.484375\n"
          ]
        },
        {
          "output_type": "stream",
          "name": "stderr",
          "text": [
            "100%|██████████| 3/3 [00:05<00:00,  1.73s/it]\n"
          ]
        },
        {
          "output_type": "stream",
          "name": "stdout",
          "text": [
            "\n",
            "Train set: Average loss = 4.3639, Train Accuracy = 70.0416\n",
            "\n",
            "\n",
            "Testing:\n"
          ]
        },
        {
          "output_type": "stream",
          "name": "stderr",
          "text": [
            "100%|██████████| 3/3 [00:03<00:00,  1.14s/it]\n"
          ]
        },
        {
          "output_type": "stream",
          "name": "stdout",
          "text": [
            "\n",
            "Test set: Average loss = 1.8472, Test Accuracy = 65.8423\n",
            "\n",
            "Time taken for running epoch 2 is 12.936 seconds.\n",
            "\n",
            "\n",
            "Epoch number:  3\n",
            "\n",
            "Training:\n"
          ]
        },
        {
          "output_type": "stream",
          "name": "stderr",
          "text": [
            " 33%|███▎      | 1/3 [00:02<00:04,  2.25s/it]"
          ]
        },
        {
          "output_type": "stream",
          "name": "stdout",
          "text": [
            "Train Epoch: 3 [256/721 (33%)]\tLoss: 4.455784\tTrain Accuracy: 73.437500\n"
          ]
        },
        {
          "output_type": "stream",
          "name": "stderr",
          "text": [
            "100%|██████████| 3/3 [00:05<00:00,  1.68s/it]\n"
          ]
        },
        {
          "output_type": "stream",
          "name": "stdout",
          "text": [
            "\n",
            "Train set: Average loss = 4.5624, Train Accuracy = 73.5090\n",
            "\n",
            "\n",
            "Testing:\n"
          ]
        },
        {
          "output_type": "stream",
          "name": "stderr",
          "text": [
            "100%|██████████| 3/3 [00:03<00:00,  1.18s/it]\n"
          ]
        },
        {
          "output_type": "stream",
          "name": "stdout",
          "text": [
            "\n",
            "Test set: Average loss = 3.5032, Test Accuracy = 56.8779\n",
            "\n",
            "Time taken for running epoch 3 is 12.935 seconds.\n",
            "\n",
            "\n",
            "Epoch number:  4\n",
            "\n",
            "Training:\n"
          ]
        },
        {
          "output_type": "stream",
          "name": "stderr",
          "text": [
            " 33%|███▎      | 1/3 [00:02<00:04,  2.21s/it]"
          ]
        },
        {
          "output_type": "stream",
          "name": "stdout",
          "text": [
            "Train Epoch: 4 [256/721 (33%)]\tLoss: 3.743769\tTrain Accuracy: 77.343750\n"
          ]
        },
        {
          "output_type": "stream",
          "name": "stderr",
          "text": [
            "100%|██████████| 3/3 [00:04<00:00,  1.64s/it]\n"
          ]
        },
        {
          "output_type": "stream",
          "name": "stdout",
          "text": [
            "\n",
            "Train set: Average loss = 3.0202, Train Accuracy = 80.0277\n",
            "\n",
            "\n",
            "Testing:\n"
          ]
        },
        {
          "output_type": "stream",
          "name": "stderr",
          "text": [
            "100%|██████████| 3/3 [00:03<00:00,  1.16s/it]\n"
          ]
        },
        {
          "output_type": "stream",
          "name": "stdout",
          "text": [
            "\n",
            "Test set: Average loss = 3.4535, Test Accuracy = 64.2968\n",
            "\n",
            "Time taken for running epoch 4 is 12.802 seconds.\n",
            "\n",
            "\n",
            "Epoch number:  5\n",
            "\n",
            "Training:\n"
          ]
        },
        {
          "output_type": "stream",
          "name": "stderr",
          "text": [
            " 33%|███▎      | 1/3 [00:02<00:04,  2.46s/it]"
          ]
        },
        {
          "output_type": "stream",
          "name": "stdout",
          "text": [
            "Train Epoch: 5 [256/721 (33%)]\tLoss: 3.608955\tTrain Accuracy: 80.468750\n"
          ]
        },
        {
          "output_type": "stream",
          "name": "stderr",
          "text": [
            "100%|██████████| 3/3 [00:05<00:00,  1.77s/it]\n"
          ]
        },
        {
          "output_type": "stream",
          "name": "stdout",
          "text": [
            "\n",
            "Train set: Average loss = 3.1320, Train Accuracy = 81.4147\n",
            "\n",
            "\n",
            "Testing:\n"
          ]
        },
        {
          "output_type": "stream",
          "name": "stderr",
          "text": [
            "100%|██████████| 3/3 [00:03<00:00,  1.14s/it]\n"
          ]
        },
        {
          "output_type": "stream",
          "name": "stdout",
          "text": [
            "\n",
            "Test set: Average loss = 3.7798, Test Accuracy = 68.0062\n",
            "\n",
            "Time taken for running epoch 5 is 13.029 seconds.\n",
            "\n",
            "\n",
            "Epoch number:  6\n",
            "\n",
            "Training:\n"
          ]
        },
        {
          "output_type": "stream",
          "name": "stderr",
          "text": [
            " 33%|███▎      | 1/3 [00:02<00:04,  2.26s/it]"
          ]
        },
        {
          "output_type": "stream",
          "name": "stdout",
          "text": [
            "Train Epoch: 6 [256/721 (33%)]\tLoss: 2.861321\tTrain Accuracy: 81.640625\n"
          ]
        },
        {
          "output_type": "stream",
          "name": "stderr",
          "text": [
            "100%|██████████| 3/3 [00:05<00:00,  1.69s/it]\n"
          ]
        },
        {
          "output_type": "stream",
          "name": "stdout",
          "text": [
            "\n",
            "Train set: Average loss = 2.6174, Train Accuracy = 83.4951\n",
            "\n",
            "\n",
            "Testing:\n"
          ]
        },
        {
          "output_type": "stream",
          "name": "stderr",
          "text": [
            "100%|██████████| 3/3 [00:03<00:00,  1.17s/it]\n"
          ]
        },
        {
          "output_type": "stream",
          "name": "stdout",
          "text": [
            "\n",
            "Test set: Average loss = 5.1598, Test Accuracy = 67.0788\n",
            "\n",
            "Time taken for running epoch 6 is 12.852 seconds.\n",
            "\n",
            "\n",
            "Epoch number:  7\n",
            "\n",
            "Training:\n"
          ]
        },
        {
          "output_type": "stream",
          "name": "stderr",
          "text": [
            " 33%|███▎      | 1/3 [00:02<00:04,  2.12s/it]"
          ]
        },
        {
          "output_type": "stream",
          "name": "stdout",
          "text": [
            "Train Epoch: 7 [256/721 (33%)]\tLoss: 2.279164\tTrain Accuracy: 82.421875\n"
          ]
        },
        {
          "output_type": "stream",
          "name": "stderr",
          "text": [
            "100%|██████████| 3/3 [00:04<00:00,  1.61s/it]\n"
          ]
        },
        {
          "output_type": "stream",
          "name": "stdout",
          "text": [
            "\n",
            "Train set: Average loss = 2.2677, Train Accuracy = 81.2760\n",
            "\n",
            "\n",
            "Testing:\n"
          ]
        },
        {
          "output_type": "stream",
          "name": "stderr",
          "text": [
            "100%|██████████| 3/3 [00:03<00:00,  1.19s/it]\n"
          ]
        },
        {
          "output_type": "stream",
          "name": "stdout",
          "text": [
            "\n",
            "Test set: Average loss = 5.6120, Test Accuracy = 67.3879\n",
            "\n",
            "Time taken for running epoch 7 is 12.715 seconds.\n",
            "\n",
            "\n",
            "Epoch number:  8\n",
            "\n",
            "Training:\n"
          ]
        },
        {
          "output_type": "stream",
          "name": "stderr",
          "text": [
            " 33%|███▎      | 1/3 [00:02<00:04,  2.01s/it]"
          ]
        },
        {
          "output_type": "stream",
          "name": "stdout",
          "text": [
            "Train Epoch: 8 [256/721 (33%)]\tLoss: 1.603064\tTrain Accuracy: 84.375000\n"
          ]
        },
        {
          "output_type": "stream",
          "name": "stderr",
          "text": [
            "100%|██████████| 3/3 [00:05<00:00,  1.69s/it]\n"
          ]
        },
        {
          "output_type": "stream",
          "name": "stdout",
          "text": [
            "\n",
            "Train set: Average loss = 1.9487, Train Accuracy = 84.4660\n",
            "\n",
            "\n",
            "Testing:\n"
          ]
        },
        {
          "output_type": "stream",
          "name": "stderr",
          "text": [
            "100%|██████████| 3/3 [00:03<00:00,  1.18s/it]\n"
          ]
        },
        {
          "output_type": "stream",
          "name": "stdout",
          "text": [
            "\n",
            "Test set: Average loss = 4.3350, Test Accuracy = 71.4065\n",
            "\n",
            "Time taken for running epoch 8 is 12.907 seconds.\n",
            "\n",
            "\n",
            "Epoch number:  9\n",
            "\n",
            "Training:\n"
          ]
        },
        {
          "output_type": "stream",
          "name": "stderr",
          "text": [
            " 33%|███▎      | 1/3 [00:01<00:03,  1.98s/it]"
          ]
        },
        {
          "output_type": "stream",
          "name": "stdout",
          "text": [
            "Train Epoch: 9 [256/721 (33%)]\tLoss: 1.425316\tTrain Accuracy: 85.156250\n"
          ]
        },
        {
          "output_type": "stream",
          "name": "stderr",
          "text": [
            "100%|██████████| 3/3 [00:04<00:00,  1.56s/it]\n"
          ]
        },
        {
          "output_type": "stream",
          "name": "stdout",
          "text": [
            "\n",
            "Train set: Average loss = 1.5231, Train Accuracy = 86.9626\n",
            "\n",
            "\n",
            "Testing:\n"
          ]
        },
        {
          "output_type": "stream",
          "name": "stderr",
          "text": [
            "100%|██████████| 3/3 [00:03<00:00,  1.22s/it]\n"
          ]
        },
        {
          "output_type": "stream",
          "name": "stdout",
          "text": [
            "\n",
            "Test set: Average loss = 5.5533, Test Accuracy = 67.2334\n",
            "\n",
            "Time taken for running epoch 9 is 12.602 seconds.\n",
            "\n",
            "\n",
            "Epoch number:  10\n",
            "\n",
            "Training:\n"
          ]
        },
        {
          "output_type": "stream",
          "name": "stderr",
          "text": [
            " 33%|███▎      | 1/3 [00:01<00:03,  1.90s/it]"
          ]
        },
        {
          "output_type": "stream",
          "name": "stdout",
          "text": [
            "Train Epoch: 10 [256/721 (33%)]\tLoss: 0.983201\tTrain Accuracy: 87.109375\n"
          ]
        },
        {
          "output_type": "stream",
          "name": "stderr",
          "text": [
            "100%|██████████| 3/3 [00:04<00:00,  1.55s/it]\n"
          ]
        },
        {
          "output_type": "stream",
          "name": "stdout",
          "text": [
            "\n",
            "Train set: Average loss = 1.3026, Train Accuracy = 84.8821\n",
            "\n",
            "\n",
            "Testing:\n"
          ]
        },
        {
          "output_type": "stream",
          "name": "stderr",
          "text": [
            "100%|██████████| 3/3 [00:03<00:00,  1.22s/it]\n"
          ]
        },
        {
          "output_type": "stream",
          "name": "stdout",
          "text": [
            "\n",
            "Test set: Average loss = 6.4339, Test Accuracy = 64.2968\n",
            "\n",
            "Time taken for running epoch 10 is 12.617 seconds.\n",
            "\n",
            "\n",
            "Epoch number:  11\n",
            "\n",
            "Training:\n"
          ]
        },
        {
          "output_type": "stream",
          "name": "stderr",
          "text": [
            " 33%|███▎      | 1/3 [00:01<00:03,  1.84s/it]"
          ]
        },
        {
          "output_type": "stream",
          "name": "stdout",
          "text": [
            "Train Epoch: 11 [256/721 (33%)]\tLoss: 1.024942\tTrain Accuracy: 86.328125\n"
          ]
        },
        {
          "output_type": "stream",
          "name": "stderr",
          "text": [
            "100%|██████████| 3/3 [00:04<00:00,  1.55s/it]\n"
          ]
        },
        {
          "output_type": "stream",
          "name": "stdout",
          "text": [
            "\n",
            "Train set: Average loss = 1.0618, Train Accuracy = 86.6852\n",
            "\n",
            "\n",
            "Testing:\n"
          ]
        },
        {
          "output_type": "stream",
          "name": "stderr",
          "text": [
            "100%|██████████| 3/3 [00:03<00:00,  1.24s/it]\n"
          ]
        },
        {
          "output_type": "stream",
          "name": "stdout",
          "text": [
            "\n",
            "Test set: Average loss = 3.5628, Test Accuracy = 72.1793\n",
            "\n",
            "Time taken for running epoch 11 is 12.696 seconds.\n",
            "\n",
            "\n",
            "Epoch number:  12\n",
            "\n",
            "Training:\n"
          ]
        },
        {
          "output_type": "stream",
          "name": "stderr",
          "text": [
            " 33%|███▎      | 1/3 [00:01<00:03,  1.85s/it]"
          ]
        },
        {
          "output_type": "stream",
          "name": "stdout",
          "text": [
            "Train Epoch: 12 [256/721 (33%)]\tLoss: 1.173797\tTrain Accuracy: 89.453125\n"
          ]
        },
        {
          "output_type": "stream",
          "name": "stderr",
          "text": [
            "100%|██████████| 3/3 [00:04<00:00,  1.54s/it]\n"
          ]
        },
        {
          "output_type": "stream",
          "name": "stdout",
          "text": [
            "\n",
            "Train set: Average loss = 0.9527, Train Accuracy = 90.1526\n",
            "\n",
            "\n",
            "Testing:\n"
          ]
        },
        {
          "output_type": "stream",
          "name": "stderr",
          "text": [
            "100%|██████████| 3/3 [00:03<00:00,  1.12s/it]\n"
          ]
        },
        {
          "output_type": "stream",
          "name": "stdout",
          "text": [
            "\n",
            "Test set: Average loss = 2.8669, Test Accuracy = 71.2519\n",
            "\n",
            "Time taken for running epoch 12 is 20.815 seconds.\n",
            "\n",
            "\n",
            "Epoch number:  13\n",
            "\n",
            "Training:\n"
          ]
        },
        {
          "output_type": "stream",
          "name": "stderr",
          "text": [
            " 33%|███▎      | 1/3 [00:01<00:03,  1.87s/it]"
          ]
        },
        {
          "output_type": "stream",
          "name": "stdout",
          "text": [
            "Train Epoch: 13 [256/721 (33%)]\tLoss: 0.745827\tTrain Accuracy: 91.406250\n"
          ]
        },
        {
          "output_type": "stream",
          "name": "stderr",
          "text": [
            "100%|██████████| 3/3 [00:04<00:00,  1.55s/it]\n"
          ]
        },
        {
          "output_type": "stream",
          "name": "stdout",
          "text": [
            "\n",
            "Train set: Average loss = 0.8893, Train Accuracy = 90.4300\n",
            "\n",
            "\n",
            "Testing:\n"
          ]
        },
        {
          "output_type": "stream",
          "name": "stderr",
          "text": [
            "100%|██████████| 3/3 [00:03<00:00,  1.01s/it]\n"
          ]
        },
        {
          "output_type": "stream",
          "name": "stdout",
          "text": [
            "\n",
            "Test set: Average loss = 2.7798, Test Accuracy = 72.3338\n",
            "\n",
            "Time taken for running epoch 13 is 161.357 seconds.\n",
            "\n",
            "\n",
            "Epoch number:  14\n",
            "\n",
            "Training:\n"
          ]
        },
        {
          "output_type": "stream",
          "name": "stderr",
          "text": [
            " 33%|███▎      | 1/3 [00:01<00:03,  1.96s/it]"
          ]
        },
        {
          "output_type": "stream",
          "name": "stdout",
          "text": [
            "Train Epoch: 14 [256/721 (33%)]\tLoss: 0.560241\tTrain Accuracy: 90.234375\n"
          ]
        },
        {
          "output_type": "stream",
          "name": "stderr",
          "text": [
            "100%|██████████| 3/3 [00:04<00:00,  1.58s/it]\n"
          ]
        },
        {
          "output_type": "stream",
          "name": "stdout",
          "text": [
            "\n",
            "Train set: Average loss = 0.8474, Train Accuracy = 87.6560\n",
            "\n",
            "\n",
            "Testing:\n"
          ]
        },
        {
          "output_type": "stream",
          "name": "stderr",
          "text": [
            "100%|██████████| 3/3 [00:03<00:00,  1.22s/it]\n"
          ]
        },
        {
          "output_type": "stream",
          "name": "stdout",
          "text": [
            "\n",
            "Test set: Average loss = 4.1631, Test Accuracy = 63.5240\n",
            "\n",
            "Time taken for running epoch 14 is 203.683 seconds.\n",
            "\n",
            "\n",
            "Epoch number:  15\n",
            "\n",
            "Training:\n"
          ]
        },
        {
          "output_type": "stream",
          "name": "stderr",
          "text": [
            " 33%|███▎      | 1/3 [00:02<00:04,  2.44s/it]"
          ]
        },
        {
          "output_type": "stream",
          "name": "stdout",
          "text": [
            "Train Epoch: 15 [256/721 (33%)]\tLoss: 0.604704\tTrain Accuracy: 89.843750\n"
          ]
        },
        {
          "output_type": "stream",
          "name": "stderr",
          "text": [
            "100%|██████████| 3/3 [00:05<00:00,  1.74s/it]\n"
          ]
        },
        {
          "output_type": "stream",
          "name": "stdout",
          "text": [
            "\n",
            "Train set: Average loss = 0.5938, Train Accuracy = 88.7656\n",
            "\n",
            "\n",
            "Testing:\n"
          ]
        },
        {
          "output_type": "stream",
          "name": "stderr",
          "text": [
            "100%|██████████| 3/3 [00:03<00:00,  1.20s/it]\n"
          ]
        },
        {
          "output_type": "stream",
          "name": "stdout",
          "text": [
            "\n",
            "Test set: Average loss = 2.6693, Test Accuracy = 73.4158\n",
            "\n",
            "Time taken for running epoch 15 is 115.228 seconds.\n",
            "\n",
            "\n",
            "Epoch number:  16\n",
            "\n",
            "Training:\n"
          ]
        },
        {
          "output_type": "stream",
          "name": "stderr",
          "text": [
            " 33%|███▎      | 1/3 [00:02<00:04,  2.06s/it]"
          ]
        },
        {
          "output_type": "stream",
          "name": "stdout",
          "text": [
            "Train Epoch: 16 [256/721 (33%)]\tLoss: 0.667392\tTrain Accuracy: 92.578125\n"
          ]
        },
        {
          "output_type": "stream",
          "name": "stderr",
          "text": [
            "100%|██████████| 3/3 [00:05<00:00,  1.71s/it]\n"
          ]
        },
        {
          "output_type": "stream",
          "name": "stdout",
          "text": [
            "\n",
            "Train set: Average loss = 0.7971, Train Accuracy = 92.3717\n",
            "\n",
            "\n",
            "Testing:\n"
          ]
        },
        {
          "output_type": "stream",
          "name": "stderr",
          "text": [
            "100%|██████████| 3/3 [00:02<00:00,  1.04it/s]\n"
          ]
        },
        {
          "output_type": "stream",
          "name": "stdout",
          "text": [
            "\n",
            "Test set: Average loss = 2.1172, Test Accuracy = 72.7975\n",
            "\n",
            "Time taken for running epoch 16 is 117.535 seconds.\n",
            "\n",
            "\n",
            "Epoch number:  17\n",
            "\n",
            "Training:\n"
          ]
        },
        {
          "output_type": "stream",
          "name": "stderr",
          "text": [
            " 33%|███▎      | 1/3 [00:01<00:03,  1.66s/it]"
          ]
        },
        {
          "output_type": "stream",
          "name": "stdout",
          "text": [
            "Train Epoch: 17 [256/721 (33%)]\tLoss: 0.532136\tTrain Accuracy: 92.968750\n"
          ]
        },
        {
          "output_type": "stream",
          "name": "stderr",
          "text": [
            "100%|██████████| 3/3 [00:04<00:00,  1.56s/it]\n"
          ]
        },
        {
          "output_type": "stream",
          "name": "stdout",
          "text": [
            "\n",
            "Train set: Average loss = 0.4230, Train Accuracy = 93.6200\n",
            "\n",
            "\n",
            "Testing:\n"
          ]
        },
        {
          "output_type": "stream",
          "name": "stderr",
          "text": [
            "100%|██████████| 3/3 [00:03<00:00,  1.09s/it]\n"
          ]
        },
        {
          "output_type": "stream",
          "name": "stdout",
          "text": [
            "\n",
            "Test set: Average loss = 2.9424, Test Accuracy = 71.8702\n",
            "\n",
            "Time taken for running epoch 17 is 117.534 seconds.\n",
            "\n",
            "\n",
            "Epoch number:  18\n",
            "\n",
            "Training:\n"
          ]
        },
        {
          "output_type": "stream",
          "name": "stderr",
          "text": [
            " 33%|███▎      | 1/3 [00:01<00:03,  1.56s/it]"
          ]
        },
        {
          "output_type": "stream",
          "name": "stdout",
          "text": [
            "Train Epoch: 18 [256/721 (33%)]\tLoss: 0.494776\tTrain Accuracy: 91.015625\n"
          ]
        },
        {
          "output_type": "stream",
          "name": "stderr",
          "text": [
            "100%|██████████| 3/3 [00:04<00:00,  1.42s/it]\n"
          ]
        },
        {
          "output_type": "stream",
          "name": "stdout",
          "text": [
            "\n",
            "Train set: Average loss = 0.4507, Train Accuracy = 90.5687\n",
            "\n",
            "\n",
            "Testing:\n"
          ]
        },
        {
          "output_type": "stream",
          "name": "stderr",
          "text": [
            "100%|██████████| 3/3 [00:02<00:00,  1.08it/s]\n"
          ]
        },
        {
          "output_type": "stream",
          "name": "stdout",
          "text": [
            "\n",
            "Test set: Average loss = 2.5263, Test Accuracy = 70.1700\n",
            "\n",
            "Time taken for running epoch 18 is 112.330 seconds.\n",
            "\n",
            "\n",
            "Epoch number:  19\n",
            "\n",
            "Training:\n"
          ]
        },
        {
          "output_type": "stream",
          "name": "stderr",
          "text": [
            " 33%|███▎      | 1/3 [00:01<00:03,  1.53s/it]"
          ]
        },
        {
          "output_type": "stream",
          "name": "stdout",
          "text": [
            "Train Epoch: 19 [256/721 (33%)]\tLoss: 0.354641\tTrain Accuracy: 92.578125\n"
          ]
        },
        {
          "output_type": "stream",
          "name": "stderr",
          "text": [
            "100%|██████████| 3/3 [00:04<00:00,  1.52s/it]\n"
          ]
        },
        {
          "output_type": "stream",
          "name": "stdout",
          "text": [
            "\n",
            "Train set: Average loss = 0.3181, Train Accuracy = 92.7878\n",
            "\n",
            "\n",
            "Testing:\n"
          ]
        },
        {
          "output_type": "stream",
          "name": "stderr",
          "text": [
            "100%|██████████| 3/3 [00:02<00:00,  1.10it/s]\n"
          ]
        },
        {
          "output_type": "stream",
          "name": "stdout",
          "text": [
            "\n",
            "Test set: Average loss = 1.9428, Test Accuracy = 76.3524\n",
            "\n",
            "Time taken for running epoch 19 is 112.415 seconds.\n",
            "\n",
            "\n",
            "Epoch number:  20\n",
            "\n",
            "Training:\n"
          ]
        },
        {
          "output_type": "stream",
          "name": "stderr",
          "text": [
            " 33%|███▎      | 1/3 [00:01<00:03,  1.62s/it]"
          ]
        },
        {
          "output_type": "stream",
          "name": "stdout",
          "text": [
            "Train Epoch: 20 [256/721 (33%)]\tLoss: 0.446438\tTrain Accuracy: 92.578125\n"
          ]
        },
        {
          "output_type": "stream",
          "name": "stderr",
          "text": [
            "100%|██████████| 3/3 [00:04<00:00,  1.43s/it]\n"
          ]
        },
        {
          "output_type": "stream",
          "name": "stdout",
          "text": [
            "\n",
            "Train set: Average loss = 0.4823, Train Accuracy = 92.7878\n",
            "\n",
            "\n",
            "Testing:\n"
          ]
        },
        {
          "output_type": "stream",
          "name": "stderr",
          "text": [
            "100%|██████████| 3/3 [00:02<00:00,  1.16it/s]\n"
          ]
        },
        {
          "output_type": "stream",
          "name": "stdout",
          "text": [
            "\n",
            "Test set: Average loss = 2.0187, Test Accuracy = 74.9614\n",
            "\n",
            "Time taken for running epoch 20 is 115.964 seconds.\n",
            "\n",
            "\n",
            "Epoch number:  21\n",
            "\n",
            "Training:\n"
          ]
        },
        {
          "output_type": "stream",
          "name": "stderr",
          "text": [
            " 33%|███▎      | 1/3 [00:01<00:03,  1.53s/it]"
          ]
        },
        {
          "output_type": "stream",
          "name": "stdout",
          "text": [
            "Train Epoch: 21 [256/721 (33%)]\tLoss: 0.397892\tTrain Accuracy: 92.578125\n"
          ]
        },
        {
          "output_type": "stream",
          "name": "stderr",
          "text": [
            "100%|██████████| 3/3 [00:04<00:00,  1.59s/it]\n"
          ]
        },
        {
          "output_type": "stream",
          "name": "stdout",
          "text": [
            "\n",
            "Train set: Average loss = 0.2942, Train Accuracy = 94.5908\n",
            "\n",
            "\n",
            "Testing:\n"
          ]
        },
        {
          "output_type": "stream",
          "name": "stderr",
          "text": [
            "100%|██████████| 3/3 [00:02<00:00,  1.16it/s]\n"
          ]
        },
        {
          "output_type": "stream",
          "name": "stdout",
          "text": [
            "\n",
            "Test set: Average loss = 2.0692, Test Accuracy = 71.0974\n",
            "\n",
            "Time taken for running epoch 21 is 113.900 seconds.\n",
            "\n",
            "\n",
            "Epoch number:  22\n",
            "\n",
            "Training:\n"
          ]
        },
        {
          "output_type": "stream",
          "name": "stderr",
          "text": [
            " 33%|███▎      | 1/3 [00:01<00:03,  1.56s/it]"
          ]
        },
        {
          "output_type": "stream",
          "name": "stdout",
          "text": [
            "Train Epoch: 22 [256/721 (33%)]\tLoss: 0.424687\tTrain Accuracy: 91.796875\n"
          ]
        },
        {
          "output_type": "stream",
          "name": "stderr",
          "text": [
            "100%|██████████| 3/3 [00:04<00:00,  1.40s/it]\n"
          ]
        },
        {
          "output_type": "stream",
          "name": "stdout",
          "text": [
            "\n",
            "Train set: Average loss = 0.3944, Train Accuracy = 93.4813\n",
            "\n",
            "\n",
            "Testing:\n"
          ]
        },
        {
          "output_type": "stream",
          "name": "stderr",
          "text": [
            "100%|██████████| 3/3 [00:02<00:00,  1.16it/s]\n"
          ]
        },
        {
          "output_type": "stream",
          "name": "stdout",
          "text": [
            "\n",
            "Test set: Average loss = 1.8167, Test Accuracy = 70.1700\n",
            "\n",
            "Time taken for running epoch 22 is 117.090 seconds.\n",
            "\n",
            "\n",
            "Epoch number:  23\n",
            "\n",
            "Training:\n"
          ]
        },
        {
          "output_type": "stream",
          "name": "stderr",
          "text": [
            " 33%|███▎      | 1/3 [00:01<00:03,  1.60s/it]"
          ]
        },
        {
          "output_type": "stream",
          "name": "stdout",
          "text": [
            "Train Epoch: 23 [256/721 (33%)]\tLoss: 0.338596\tTrain Accuracy: 95.312500\n"
          ]
        },
        {
          "output_type": "stream",
          "name": "stderr",
          "text": [
            "100%|██████████| 3/3 [00:04<00:00,  1.43s/it]\n"
          ]
        },
        {
          "output_type": "stream",
          "name": "stdout",
          "text": [
            "\n",
            "Train set: Average loss = 0.2163, Train Accuracy = 95.7004\n",
            "\n",
            "\n",
            "Testing:\n"
          ]
        },
        {
          "output_type": "stream",
          "name": "stderr",
          "text": [
            "100%|██████████| 3/3 [00:02<00:00,  1.17it/s]\n"
          ]
        },
        {
          "output_type": "stream",
          "name": "stdout",
          "text": [
            "\n",
            "Test set: Average loss = 1.4165, Test Accuracy = 76.0433\n",
            "\n",
            "Time taken for running epoch 23 is 117.036 seconds.\n",
            "\n",
            "\n",
            "Epoch number:  24\n",
            "\n",
            "Training:\n"
          ]
        },
        {
          "output_type": "stream",
          "name": "stderr",
          "text": [
            " 33%|███▎      | 1/3 [00:01<00:03,  1.53s/it]"
          ]
        },
        {
          "output_type": "stream",
          "name": "stdout",
          "text": [
            "Train Epoch: 24 [256/721 (33%)]\tLoss: 0.410489\tTrain Accuracy: 95.703125\n"
          ]
        },
        {
          "output_type": "stream",
          "name": "stderr",
          "text": [
            "100%|██████████| 3/3 [00:04<00:00,  1.58s/it]\n"
          ]
        },
        {
          "output_type": "stream",
          "name": "stdout",
          "text": [
            "\n",
            "Train set: Average loss = 0.4530, Train Accuracy = 95.7004\n",
            "\n",
            "\n",
            "Testing:\n"
          ]
        },
        {
          "output_type": "stream",
          "name": "stderr",
          "text": [
            "100%|██████████| 3/3 [00:02<00:00,  1.19it/s]\n"
          ]
        },
        {
          "output_type": "stream",
          "name": "stdout",
          "text": [
            "\n",
            "Test set: Average loss = 1.8186, Test Accuracy = 71.7156\n",
            "\n",
            "Time taken for running epoch 24 is 117.090 seconds.\n",
            "\n",
            "\n",
            "Epoch number:  25\n",
            "\n",
            "Training:\n"
          ]
        },
        {
          "output_type": "stream",
          "name": "stderr",
          "text": [
            " 33%|███▎      | 1/3 [00:01<00:03,  1.52s/it]"
          ]
        },
        {
          "output_type": "stream",
          "name": "stdout",
          "text": [
            "Train Epoch: 25 [256/721 (33%)]\tLoss: 0.267740\tTrain Accuracy: 92.968750\n"
          ]
        },
        {
          "output_type": "stream",
          "name": "stderr",
          "text": [
            "100%|██████████| 3/3 [00:04<00:00,  1.39s/it]\n"
          ]
        },
        {
          "output_type": "stream",
          "name": "stdout",
          "text": [
            "\n",
            "Train set: Average loss = 0.2514, Train Accuracy = 92.5104\n",
            "\n",
            "\n",
            "Testing:\n"
          ]
        },
        {
          "output_type": "stream",
          "name": "stderr",
          "text": [
            "100%|██████████| 3/3 [00:03<00:00,  1.12s/it]\n"
          ]
        },
        {
          "output_type": "stream",
          "name": "stdout",
          "text": [
            "\n",
            "Test set: Average loss = 2.4202, Test Accuracy = 69.3972\n",
            "\n",
            "Time taken for running epoch 25 is 109.818 seconds.\n",
            "\n",
            "\n",
            "Epoch number:  26\n",
            "\n",
            "Training:\n"
          ]
        },
        {
          "output_type": "stream",
          "name": "stderr",
          "text": [
            " 33%|███▎      | 1/3 [00:01<00:03,  1.66s/it]"
          ]
        },
        {
          "output_type": "stream",
          "name": "stdout",
          "text": [
            "Train Epoch: 26 [256/721 (33%)]\tLoss: 0.186886\tTrain Accuracy: 95.703125\n"
          ]
        },
        {
          "output_type": "stream",
          "name": "stderr",
          "text": [
            "100%|██████████| 3/3 [00:04<00:00,  1.54s/it]\n"
          ]
        },
        {
          "output_type": "stream",
          "name": "stdout",
          "text": [
            "\n",
            "Train set: Average loss = 0.2409, Train Accuracy = 95.1456\n",
            "\n",
            "\n",
            "Testing:\n"
          ]
        },
        {
          "output_type": "stream",
          "name": "stderr",
          "text": [
            "100%|██████████| 3/3 [00:03<00:00,  1.03s/it]\n"
          ]
        },
        {
          "output_type": "stream",
          "name": "stdout",
          "text": [
            "\n",
            "Test set: Average loss = 1.3288, Test Accuracy = 74.8068\n",
            "\n",
            "Time taken for running epoch 26 is 116.414 seconds.\n",
            "\n",
            "\n",
            "Epoch number:  27\n",
            "\n",
            "Training:\n"
          ]
        },
        {
          "output_type": "stream",
          "name": "stderr",
          "text": [
            " 33%|███▎      | 1/3 [00:01<00:03,  1.51s/it]"
          ]
        },
        {
          "output_type": "stream",
          "name": "stdout",
          "text": [
            "Train Epoch: 27 [256/721 (33%)]\tLoss: 0.149938\tTrain Accuracy: 96.875000\n"
          ]
        },
        {
          "output_type": "stream",
          "name": "stderr",
          "text": [
            "100%|██████████| 3/3 [00:04<00:00,  1.39s/it]\n"
          ]
        },
        {
          "output_type": "stream",
          "name": "stdout",
          "text": [
            "\n",
            "Train set: Average loss = 0.2043, Train Accuracy = 96.9487\n",
            "\n",
            "\n",
            "Testing:\n"
          ]
        },
        {
          "output_type": "stream",
          "name": "stderr",
          "text": [
            "100%|██████████| 3/3 [00:02<00:00,  1.17it/s]\n"
          ]
        },
        {
          "output_type": "stream",
          "name": "stdout",
          "text": [
            "\n",
            "Test set: Average loss = 1.7336, Test Accuracy = 75.5796\n",
            "\n",
            "Time taken for running epoch 27 is 114.270 seconds.\n",
            "\n",
            "\n",
            "Epoch number:  28\n",
            "\n",
            "Training:\n"
          ]
        },
        {
          "output_type": "stream",
          "name": "stderr",
          "text": [
            " 33%|███▎      | 1/3 [00:01<00:03,  1.61s/it]"
          ]
        },
        {
          "output_type": "stream",
          "name": "stdout",
          "text": [
            "Train Epoch: 28 [256/721 (33%)]\tLoss: 0.355979\tTrain Accuracy: 95.703125\n"
          ]
        },
        {
          "output_type": "stream",
          "name": "stderr",
          "text": [
            "100%|██████████| 3/3 [00:04<00:00,  1.56s/it]\n"
          ]
        },
        {
          "output_type": "stream",
          "name": "stdout",
          "text": [
            "\n",
            "Train set: Average loss = 0.2313, Train Accuracy = 96.1165\n",
            "\n",
            "\n",
            "Testing:\n"
          ]
        },
        {
          "output_type": "stream",
          "name": "stderr",
          "text": [
            "100%|██████████| 3/3 [00:02<00:00,  1.18it/s]\n"
          ]
        },
        {
          "output_type": "stream",
          "name": "stdout",
          "text": [
            "\n",
            "Test set: Average loss = 2.3009, Test Accuracy = 70.4791\n",
            "\n",
            "Time taken for running epoch 28 is 114.124 seconds.\n",
            "\n",
            "\n",
            "Epoch number:  29\n",
            "\n",
            "Training:\n"
          ]
        },
        {
          "output_type": "stream",
          "name": "stderr",
          "text": [
            " 33%|███▎      | 1/3 [00:01<00:03,  1.52s/it]"
          ]
        },
        {
          "output_type": "stream",
          "name": "stdout",
          "text": [
            "Train Epoch: 29 [256/721 (33%)]\tLoss: 0.240370\tTrain Accuracy: 96.093750\n"
          ]
        },
        {
          "output_type": "stream",
          "name": "stderr",
          "text": [
            "100%|██████████| 3/3 [00:04<00:00,  1.41s/it]\n"
          ]
        },
        {
          "output_type": "stream",
          "name": "stdout",
          "text": [
            "\n",
            "Train set: Average loss = 0.2303, Train Accuracy = 94.0361\n",
            "\n",
            "\n",
            "Testing:\n"
          ]
        },
        {
          "output_type": "stream",
          "name": "stderr",
          "text": [
            "100%|██████████| 3/3 [00:02<00:00,  1.16it/s]\n"
          ]
        },
        {
          "output_type": "stream",
          "name": "stdout",
          "text": [
            "\n",
            "Test set: Average loss = 3.0809, Test Accuracy = 65.3787\n",
            "\n",
            "Time taken for running epoch 29 is 114.975 seconds.\n",
            "\n",
            "\n",
            "Epoch number:  30\n",
            "\n",
            "Training:\n"
          ]
        },
        {
          "output_type": "stream",
          "name": "stderr",
          "text": [
            " 33%|███▎      | 1/3 [00:01<00:03,  1.89s/it]"
          ]
        },
        {
          "output_type": "stream",
          "name": "stdout",
          "text": [
            "Train Epoch: 30 [256/721 (33%)]\tLoss: 0.245025\tTrain Accuracy: 94.531250\n"
          ]
        },
        {
          "output_type": "stream",
          "name": "stderr",
          "text": [
            "100%|██████████| 3/3 [00:04<00:00,  1.62s/it]\n"
          ]
        },
        {
          "output_type": "stream",
          "name": "stdout",
          "text": [
            "\n",
            "Train set: Average loss = 0.2823, Train Accuracy = 94.1748\n",
            "\n",
            "\n",
            "Testing:\n"
          ]
        },
        {
          "output_type": "stream",
          "name": "stderr",
          "text": [
            "100%|██████████| 3/3 [00:02<00:00,  1.18it/s]\n"
          ]
        },
        {
          "output_type": "stream",
          "name": "stdout",
          "text": [
            "\n",
            "Test set: Average loss = 2.0070, Test Accuracy = 72.9521\n",
            "\n",
            "Time taken for running epoch 30 is 109.678 seconds.\n",
            "\n",
            "\n",
            "Epoch number:  31\n",
            "\n",
            "Training:\n"
          ]
        },
        {
          "output_type": "stream",
          "name": "stderr",
          "text": [
            " 33%|███▎      | 1/3 [00:01<00:03,  1.88s/it]"
          ]
        },
        {
          "output_type": "stream",
          "name": "stdout",
          "text": [
            "Train Epoch: 31 [256/721 (33%)]\tLoss: 0.231096\tTrain Accuracy: 96.875000\n"
          ]
        },
        {
          "output_type": "stream",
          "name": "stderr",
          "text": [
            "100%|██████████| 3/3 [00:04<00:00,  1.52s/it]\n"
          ]
        },
        {
          "output_type": "stream",
          "name": "stdout",
          "text": [
            "\n",
            "Train set: Average loss = 0.2657, Train Accuracy = 95.0069\n",
            "\n",
            "\n",
            "Testing:\n"
          ]
        },
        {
          "output_type": "stream",
          "name": "stderr",
          "text": [
            "100%|██████████| 3/3 [00:02<00:00,  1.18it/s]\n"
          ]
        },
        {
          "output_type": "stream",
          "name": "stdout",
          "text": [
            "\n",
            "Test set: Average loss = 1.5853, Test Accuracy = 75.2705\n",
            "\n",
            "Time taken for running epoch 31 is 112.329 seconds.\n",
            "\n",
            "\n",
            "Epoch number:  32\n",
            "\n",
            "Training:\n"
          ]
        },
        {
          "output_type": "stream",
          "name": "stderr",
          "text": [
            " 33%|███▎      | 1/3 [00:01<00:03,  1.53s/it]"
          ]
        },
        {
          "output_type": "stream",
          "name": "stdout",
          "text": [
            "Train Epoch: 32 [256/721 (33%)]\tLoss: 0.166689\tTrain Accuracy: 96.484375\n"
          ]
        },
        {
          "output_type": "stream",
          "name": "stderr",
          "text": [
            "100%|██████████| 3/3 [00:04<00:00,  1.40s/it]\n"
          ]
        },
        {
          "output_type": "stream",
          "name": "stdout",
          "text": [
            "\n",
            "Train set: Average loss = 0.2852, Train Accuracy = 96.2552\n",
            "\n",
            "\n",
            "Testing:\n"
          ]
        },
        {
          "output_type": "stream",
          "name": "stderr",
          "text": [
            "100%|██████████| 3/3 [00:02<00:00,  1.16it/s]\n"
          ]
        },
        {
          "output_type": "stream",
          "name": "stdout",
          "text": [
            "\n",
            "Test set: Average loss = 2.1933, Test Accuracy = 70.0155\n",
            "\n",
            "Time taken for running epoch 32 is 117.016 seconds.\n",
            "\n",
            "\n",
            "Epoch number:  33\n",
            "\n",
            "Training:\n"
          ]
        },
        {
          "output_type": "stream",
          "name": "stderr",
          "text": [
            " 33%|███▎      | 1/3 [00:01<00:03,  1.84s/it]"
          ]
        },
        {
          "output_type": "stream",
          "name": "stdout",
          "text": [
            "Train Epoch: 33 [256/721 (33%)]\tLoss: 0.190156\tTrain Accuracy: 93.359375\n"
          ]
        },
        {
          "output_type": "stream",
          "name": "stderr",
          "text": [
            "100%|██████████| 3/3 [00:04<00:00,  1.52s/it]\n"
          ]
        },
        {
          "output_type": "stream",
          "name": "stdout",
          "text": [
            "\n",
            "Train set: Average loss = 0.2715, Train Accuracy = 93.2039\n",
            "\n",
            "\n",
            "Testing:\n"
          ]
        },
        {
          "output_type": "stream",
          "name": "stderr",
          "text": [
            "100%|██████████| 3/3 [00:02<00:00,  1.17it/s]\n"
          ]
        },
        {
          "output_type": "stream",
          "name": "stdout",
          "text": [
            "\n",
            "Test set: Average loss = 2.6593, Test Accuracy = 68.3153\n",
            "\n",
            "Time taken for running epoch 33 is 117.297 seconds.\n",
            "\n",
            "\n",
            "Epoch number:  34\n",
            "\n",
            "Training:\n"
          ]
        },
        {
          "output_type": "stream",
          "name": "stderr",
          "text": [
            " 33%|███▎      | 1/3 [00:01<00:03,  1.55s/it]"
          ]
        },
        {
          "output_type": "stream",
          "name": "stdout",
          "text": [
            "Train Epoch: 34 [256/721 (33%)]\tLoss: 0.338140\tTrain Accuracy: 92.968750\n"
          ]
        },
        {
          "output_type": "stream",
          "name": "stderr",
          "text": [
            "100%|██████████| 3/3 [00:04<00:00,  1.59s/it]\n"
          ]
        },
        {
          "output_type": "stream",
          "name": "stdout",
          "text": [
            "\n",
            "Train set: Average loss = 0.1799, Train Accuracy = 96.1165\n",
            "\n",
            "\n",
            "Testing:\n"
          ]
        },
        {
          "output_type": "stream",
          "name": "stderr",
          "text": [
            "100%|██████████| 3/3 [00:02<00:00,  1.17it/s]\n"
          ]
        },
        {
          "output_type": "stream",
          "name": "stdout",
          "text": [
            "\n",
            "Test set: Average loss = 1.7362, Test Accuracy = 76.3524\n",
            "\n",
            "Time taken for running epoch 34 is 113.533 seconds.\n",
            "\n",
            "\n",
            "Epoch number:  35\n",
            "\n",
            "Training:\n"
          ]
        },
        {
          "output_type": "stream",
          "name": "stderr",
          "text": [
            " 33%|███▎      | 1/3 [00:01<00:03,  1.56s/it]"
          ]
        },
        {
          "output_type": "stream",
          "name": "stdout",
          "text": [
            "Train Epoch: 35 [256/721 (33%)]\tLoss: 0.069141\tTrain Accuracy: 98.437500\n"
          ]
        },
        {
          "output_type": "stream",
          "name": "stderr",
          "text": [
            "100%|██████████| 3/3 [00:04<00:00,  1.40s/it]\n"
          ]
        },
        {
          "output_type": "stream",
          "name": "stdout",
          "text": [
            "\n",
            "Train set: Average loss = 0.1192, Train Accuracy = 97.3648\n",
            "\n",
            "\n",
            "Testing:\n"
          ]
        },
        {
          "output_type": "stream",
          "name": "stderr",
          "text": [
            "100%|██████████| 3/3 [00:02<00:00,  1.18it/s]\n"
          ]
        },
        {
          "output_type": "stream",
          "name": "stdout",
          "text": [
            "\n",
            "Test set: Average loss = 1.9598, Test Accuracy = 73.2612\n",
            "\n",
            "Time taken for running epoch 35 is 106.844 seconds.\n",
            "\n",
            "\n",
            "Epoch number:  36\n",
            "\n",
            "Training:\n"
          ]
        },
        {
          "output_type": "stream",
          "name": "stderr",
          "text": [
            " 33%|███▎      | 1/3 [00:01<00:03,  1.52s/it]"
          ]
        },
        {
          "output_type": "stream",
          "name": "stdout",
          "text": [
            "Train Epoch: 36 [256/721 (33%)]\tLoss: 0.097405\tTrain Accuracy: 97.656250\n"
          ]
        },
        {
          "output_type": "stream",
          "name": "stderr",
          "text": [
            "100%|██████████| 3/3 [00:04<00:00,  1.39s/it]\n"
          ]
        },
        {
          "output_type": "stream",
          "name": "stdout",
          "text": [
            "\n",
            "Train set: Average loss = 0.0785, Train Accuracy = 97.5035\n",
            "\n",
            "\n",
            "Testing:\n"
          ]
        },
        {
          "output_type": "stream",
          "name": "stderr",
          "text": [
            "100%|██████████| 3/3 [00:02<00:00,  1.17it/s]\n"
          ]
        },
        {
          "output_type": "stream",
          "name": "stdout",
          "text": [
            "\n",
            "Test set: Average loss = 1.6348, Test Accuracy = 74.3431\n",
            "\n",
            "Time taken for running epoch 36 is 116.980 seconds.\n",
            "\n",
            "\n",
            "Epoch number:  37\n",
            "\n",
            "Training:\n"
          ]
        },
        {
          "output_type": "stream",
          "name": "stderr",
          "text": [
            " 33%|███▎      | 1/3 [00:01<00:03,  1.89s/it]"
          ]
        },
        {
          "output_type": "stream",
          "name": "stdout",
          "text": [
            "Train Epoch: 37 [256/721 (33%)]\tLoss: 0.202156\tTrain Accuracy: 95.312500\n"
          ]
        },
        {
          "output_type": "stream",
          "name": "stderr",
          "text": [
            "100%|██████████| 3/3 [00:04<00:00,  1.55s/it]\n"
          ]
        },
        {
          "output_type": "stream",
          "name": "stdout",
          "text": [
            "\n",
            "Train set: Average loss = 0.1735, Train Accuracy = 96.5326\n",
            "\n",
            "\n",
            "Testing:\n"
          ]
        },
        {
          "output_type": "stream",
          "name": "stderr",
          "text": [
            "100%|██████████| 3/3 [00:02<00:00,  1.09it/s]\n"
          ]
        },
        {
          "output_type": "stream",
          "name": "stdout",
          "text": [
            "\n",
            "Test set: Average loss = 1.7354, Test Accuracy = 72.4884\n",
            "\n",
            "Time taken for running epoch 37 is 117.954 seconds.\n",
            "\n",
            "\n",
            "Epoch number:  38\n",
            "\n",
            "Training:\n"
          ]
        },
        {
          "output_type": "stream",
          "name": "stderr",
          "text": [
            " 33%|███▎      | 1/3 [00:01<00:03,  1.53s/it]"
          ]
        },
        {
          "output_type": "stream",
          "name": "stdout",
          "text": [
            "Train Epoch: 38 [256/721 (33%)]\tLoss: 0.100114\tTrain Accuracy: 98.046875\n"
          ]
        },
        {
          "output_type": "stream",
          "name": "stderr",
          "text": [
            "100%|██████████| 3/3 [00:04<00:00,  1.61s/it]\n"
          ]
        },
        {
          "output_type": "stream",
          "name": "stdout",
          "text": [
            "\n",
            "Train set: Average loss = 0.1230, Train Accuracy = 97.2261\n",
            "\n",
            "\n",
            "Testing:\n"
          ]
        },
        {
          "output_type": "stream",
          "name": "stderr",
          "text": [
            "100%|██████████| 3/3 [00:02<00:00,  1.18it/s]\n"
          ]
        },
        {
          "output_type": "stream",
          "name": "stdout",
          "text": [
            "\n",
            "Test set: Average loss = 2.1483, Test Accuracy = 70.9428\n",
            "\n",
            "Time taken for running epoch 38 is 117.966 seconds.\n",
            "\n",
            "\n",
            "Epoch number:  39\n",
            "\n",
            "Training:\n"
          ]
        },
        {
          "output_type": "stream",
          "name": "stderr",
          "text": [
            " 33%|███▎      | 1/3 [00:01<00:03,  1.53s/it]"
          ]
        },
        {
          "output_type": "stream",
          "name": "stdout",
          "text": [
            "Train Epoch: 39 [256/721 (33%)]\tLoss: 0.162992\tTrain Accuracy: 95.703125\n"
          ]
        },
        {
          "output_type": "stream",
          "name": "stderr",
          "text": [
            "100%|██████████| 3/3 [00:04<00:00,  1.40s/it]\n"
          ]
        },
        {
          "output_type": "stream",
          "name": "stdout",
          "text": [
            "\n",
            "Train set: Average loss = 0.0839, Train Accuracy = 97.2261\n",
            "\n",
            "\n",
            "Testing:\n"
          ]
        },
        {
          "output_type": "stream",
          "name": "stderr",
          "text": [
            "100%|██████████| 3/3 [00:03<00:00,  1.11s/it]\n"
          ]
        },
        {
          "output_type": "stream",
          "name": "stdout",
          "text": [
            "\n",
            "Test set: Average loss = 2.0242, Test Accuracy = 70.4791\n",
            "\n",
            "Time taken for running epoch 39 is 119.520 seconds.\n",
            "\n",
            "\n",
            "Epoch number:  40\n",
            "\n",
            "Training:\n"
          ]
        },
        {
          "output_type": "stream",
          "name": "stderr",
          "text": [
            " 33%|███▎      | 1/3 [00:01<00:03,  1.56s/it]"
          ]
        },
        {
          "output_type": "stream",
          "name": "stdout",
          "text": [
            "Train Epoch: 40 [256/721 (33%)]\tLoss: 0.062475\tTrain Accuracy: 98.046875\n"
          ]
        },
        {
          "output_type": "stream",
          "name": "stderr",
          "text": [
            "100%|██████████| 3/3 [00:04<00:00,  1.41s/it]\n"
          ]
        },
        {
          "output_type": "stream",
          "name": "stdout",
          "text": [
            "\n",
            "Train set: Average loss = 0.0809, Train Accuracy = 98.0583\n",
            "\n",
            "\n",
            "Testing:\n"
          ]
        },
        {
          "output_type": "stream",
          "name": "stderr",
          "text": [
            "100%|██████████| 3/3 [00:03<00:00,  1.02s/it]\n"
          ]
        },
        {
          "output_type": "stream",
          "name": "stdout",
          "text": [
            "\n",
            "Test set: Average loss = 1.8583, Test Accuracy = 72.7975\n",
            "\n",
            "Time taken for running epoch 40 is 118.567 seconds.\n",
            "\n",
            "\n",
            "Epoch number:  41\n",
            "\n",
            "Training:\n"
          ]
        },
        {
          "output_type": "stream",
          "name": "stderr",
          "text": [
            " 33%|███▎      | 1/3 [00:01<00:03,  1.50s/it]"
          ]
        },
        {
          "output_type": "stream",
          "name": "stdout",
          "text": [
            "Train Epoch: 41 [256/721 (33%)]\tLoss: 0.057504\tTrain Accuracy: 98.046875\n"
          ]
        },
        {
          "output_type": "stream",
          "name": "stderr",
          "text": [
            "100%|██████████| 3/3 [00:04<00:00,  1.46s/it]\n"
          ]
        },
        {
          "output_type": "stream",
          "name": "stdout",
          "text": [
            "\n",
            "Train set: Average loss = 0.0651, Train Accuracy = 97.7809\n",
            "\n",
            "\n",
            "Testing:\n"
          ]
        },
        {
          "output_type": "stream",
          "name": "stderr",
          "text": [
            "100%|██████████| 3/3 [00:02<00:00,  1.19it/s]\n"
          ]
        },
        {
          "output_type": "stream",
          "name": "stdout",
          "text": [
            "\n",
            "Test set: Average loss = 2.4972, Test Accuracy = 70.4791\n",
            "\n",
            "Time taken for running epoch 41 is 117.109 seconds.\n",
            "\n",
            "\n",
            "Epoch number:  42\n",
            "\n",
            "Training:\n"
          ]
        },
        {
          "output_type": "stream",
          "name": "stderr",
          "text": [
            " 33%|███▎      | 1/3 [00:01<00:03,  1.54s/it]"
          ]
        },
        {
          "output_type": "stream",
          "name": "stdout",
          "text": [
            "Train Epoch: 42 [256/721 (33%)]\tLoss: 0.063580\tTrain Accuracy: 98.828125\n"
          ]
        },
        {
          "output_type": "stream",
          "name": "stderr",
          "text": [
            "100%|██████████| 3/3 [00:04<00:00,  1.39s/it]\n"
          ]
        },
        {
          "output_type": "stream",
          "name": "stdout",
          "text": [
            "\n",
            "Train set: Average loss = 0.0716, Train Accuracy = 98.0583\n",
            "\n",
            "\n",
            "Testing:\n"
          ]
        },
        {
          "output_type": "stream",
          "name": "stderr",
          "text": [
            "100%|██████████| 3/3 [00:02<00:00,  1.18it/s]\n"
          ]
        },
        {
          "output_type": "stream",
          "name": "stdout",
          "text": [
            "\n",
            "Test set: Average loss = 2.1034, Test Accuracy = 70.1700\n",
            "\n",
            "Time taken for running epoch 42 is 112.916 seconds.\n",
            "\n",
            "\n",
            "Epoch number:  43\n",
            "\n",
            "Training:\n"
          ]
        },
        {
          "output_type": "stream",
          "name": "stderr",
          "text": [
            " 33%|███▎      | 1/3 [00:01<00:03,  1.52s/it]"
          ]
        },
        {
          "output_type": "stream",
          "name": "stdout",
          "text": [
            "Train Epoch: 43 [256/721 (33%)]\tLoss: 0.077789\tTrain Accuracy: 97.656250\n"
          ]
        },
        {
          "output_type": "stream",
          "name": "stderr",
          "text": [
            "100%|██████████| 3/3 [00:04<00:00,  1.38s/it]\n"
          ]
        },
        {
          "output_type": "stream",
          "name": "stdout",
          "text": [
            "\n",
            "Train set: Average loss = 0.0594, Train Accuracy = 98.1969\n",
            "\n",
            "\n",
            "Testing:\n"
          ]
        },
        {
          "output_type": "stream",
          "name": "stderr",
          "text": [
            "100%|██████████| 3/3 [00:03<00:00,  1.09s/it]\n"
          ]
        },
        {
          "output_type": "stream",
          "name": "stdout",
          "text": [
            "\n",
            "Test set: Average loss = 2.4182, Test Accuracy = 70.9428\n",
            "\n",
            "Time taken for running epoch 43 is 114.421 seconds.\n",
            "\n",
            "\n",
            "Epoch number:  44\n",
            "\n",
            "Training:\n"
          ]
        },
        {
          "output_type": "stream",
          "name": "stderr",
          "text": [
            " 33%|███▎      | 1/3 [00:01<00:03,  1.84s/it]"
          ]
        },
        {
          "output_type": "stream",
          "name": "stdout",
          "text": [
            "Train Epoch: 44 [256/721 (33%)]\tLoss: 0.059339\tTrain Accuracy: 98.046875\n"
          ]
        },
        {
          "output_type": "stream",
          "name": "stderr",
          "text": [
            "100%|██████████| 3/3 [00:04<00:00,  1.52s/it]\n"
          ]
        },
        {
          "output_type": "stream",
          "name": "stdout",
          "text": [
            "\n",
            "Train set: Average loss = 0.0999, Train Accuracy = 97.6422\n",
            "\n",
            "\n",
            "Testing:\n"
          ]
        },
        {
          "output_type": "stream",
          "name": "stderr",
          "text": [
            "100%|██████████| 3/3 [00:02<00:00,  1.16it/s]\n"
          ]
        },
        {
          "output_type": "stream",
          "name": "stdout",
          "text": [
            "\n",
            "Test set: Average loss = 1.9460, Test Accuracy = 72.6430\n",
            "\n",
            "Time taken for running epoch 44 is 112.447 seconds.\n",
            "\n",
            "\n",
            "Epoch number:  45\n",
            "\n",
            "Training:\n"
          ]
        },
        {
          "output_type": "stream",
          "name": "stderr",
          "text": [
            " 33%|███▎      | 1/3 [00:01<00:03,  1.53s/it]"
          ]
        },
        {
          "output_type": "stream",
          "name": "stdout",
          "text": [
            "Train Epoch: 45 [256/721 (33%)]\tLoss: 0.069683\tTrain Accuracy: 97.656250\n"
          ]
        },
        {
          "output_type": "stream",
          "name": "stderr",
          "text": [
            "100%|██████████| 3/3 [00:04<00:00,  1.39s/it]\n"
          ]
        },
        {
          "output_type": "stream",
          "name": "stdout",
          "text": [
            "\n",
            "Train set: Average loss = 0.0395, Train Accuracy = 98.8904\n",
            "\n",
            "\n",
            "Testing:\n"
          ]
        },
        {
          "output_type": "stream",
          "name": "stderr",
          "text": [
            "100%|██████████| 3/3 [00:02<00:00,  1.13it/s]\n"
          ]
        },
        {
          "output_type": "stream",
          "name": "stdout",
          "text": [
            "\n",
            "Test set: Average loss = 2.7346, Test Accuracy = 70.6337\n",
            "\n",
            "Time taken for running epoch 45 is 116.886 seconds.\n",
            "\n",
            "\n",
            "Epoch number:  46\n",
            "\n",
            "Training:\n"
          ]
        },
        {
          "output_type": "stream",
          "name": "stderr",
          "text": [
            " 33%|███▎      | 1/3 [00:01<00:03,  1.54s/it]"
          ]
        },
        {
          "output_type": "stream",
          "name": "stdout",
          "text": [
            "Train Epoch: 46 [256/721 (33%)]\tLoss: 0.017283\tTrain Accuracy: 99.218750\n"
          ]
        },
        {
          "output_type": "stream",
          "name": "stderr",
          "text": [
            "100%|██████████| 3/3 [00:04<00:00,  1.40s/it]\n"
          ]
        },
        {
          "output_type": "stream",
          "name": "stdout",
          "text": [
            "\n",
            "Train set: Average loss = 0.0331, Train Accuracy = 98.3356\n",
            "\n",
            "\n",
            "Testing:\n"
          ]
        },
        {
          "output_type": "stream",
          "name": "stderr",
          "text": [
            "100%|██████████| 3/3 [00:02<00:00,  1.19it/s]\n"
          ]
        },
        {
          "output_type": "stream",
          "name": "stdout",
          "text": [
            "\n",
            "Test set: Average loss = 2.3989, Test Accuracy = 70.3246\n",
            "\n",
            "Time taken for running epoch 46 is 115.808 seconds.\n",
            "\n",
            "\n",
            "Epoch number:  47\n",
            "\n",
            "Training:\n"
          ]
        },
        {
          "output_type": "stream",
          "name": "stderr",
          "text": [
            " 33%|███▎      | 1/3 [00:01<00:03,  1.66s/it]"
          ]
        },
        {
          "output_type": "stream",
          "name": "stdout",
          "text": [
            "Train Epoch: 47 [256/721 (33%)]\tLoss: 0.105866\tTrain Accuracy: 98.437500\n"
          ]
        },
        {
          "output_type": "stream",
          "name": "stderr",
          "text": [
            "100%|██████████| 3/3 [00:05<00:00,  1.74s/it]\n"
          ]
        },
        {
          "output_type": "stream",
          "name": "stdout",
          "text": [
            "\n",
            "Train set: Average loss = 0.0749, Train Accuracy = 98.3356\n",
            "\n",
            "\n",
            "Testing:\n"
          ]
        },
        {
          "output_type": "stream",
          "name": "stderr",
          "text": [
            "100%|██████████| 3/3 [00:02<00:00,  1.02it/s]\n"
          ]
        },
        {
          "output_type": "stream",
          "name": "stdout",
          "text": [
            "\n",
            "Test set: Average loss = 2.2520, Test Accuracy = 72.7975\n",
            "\n",
            "Time taken for running epoch 47 is 117.579 seconds.\n",
            "\n",
            "\n",
            "Epoch number:  48\n",
            "\n",
            "Training:\n"
          ]
        },
        {
          "output_type": "stream",
          "name": "stderr",
          "text": [
            " 33%|███▎      | 1/3 [00:01<00:03,  1.62s/it]"
          ]
        },
        {
          "output_type": "stream",
          "name": "stdout",
          "text": [
            "Train Epoch: 48 [256/721 (33%)]\tLoss: 0.020665\tTrain Accuracy: 99.609375\n"
          ]
        },
        {
          "output_type": "stream",
          "name": "stderr",
          "text": [
            "100%|██████████| 3/3 [00:04<00:00,  1.44s/it]\n"
          ]
        },
        {
          "output_type": "stream",
          "name": "stdout",
          "text": [
            "\n",
            "Train set: Average loss = 0.0184, Train Accuracy = 99.4452\n",
            "\n",
            "\n",
            "Testing:\n"
          ]
        },
        {
          "output_type": "stream",
          "name": "stderr",
          "text": [
            "100%|██████████| 3/3 [00:02<00:00,  1.07it/s]\n"
          ]
        },
        {
          "output_type": "stream",
          "name": "stdout",
          "text": [
            "\n",
            "Test set: Average loss = 2.5000, Test Accuracy = 70.4791\n",
            "\n",
            "Time taken for running epoch 48 is 115.205 seconds.\n",
            "\n",
            "\n",
            "Epoch number:  49\n",
            "\n",
            "Training:\n"
          ]
        },
        {
          "output_type": "stream",
          "name": "stderr",
          "text": [
            " 33%|███▎      | 1/3 [00:01<00:03,  1.88s/it]"
          ]
        },
        {
          "output_type": "stream",
          "name": "stdout",
          "text": [
            "Train Epoch: 49 [256/721 (33%)]\tLoss: 0.035152\tTrain Accuracy: 99.609375\n"
          ]
        },
        {
          "output_type": "stream",
          "name": "stderr",
          "text": [
            "100%|██████████| 3/3 [00:04<00:00,  1.50s/it]\n"
          ]
        },
        {
          "output_type": "stream",
          "name": "stdout",
          "text": [
            "\n",
            "Train set: Average loss = 0.0245, Train Accuracy = 99.4452\n",
            "\n",
            "\n",
            "Testing:\n"
          ]
        },
        {
          "output_type": "stream",
          "name": "stderr",
          "text": [
            "100%|██████████| 3/3 [00:02<00:00,  1.15it/s]\n"
          ]
        },
        {
          "output_type": "stream",
          "name": "stdout",
          "text": [
            "\n",
            "Test set: Average loss = 2.3564, Test Accuracy = 71.4065\n",
            "\n",
            "Time taken for running epoch 49 is 112.299 seconds.\n",
            "\n",
            "\n"
          ]
        }
      ]
    },
    {
      "cell_type": "code",
      "source": [
        "vis_dataloader = DataLoader(train_dataset, shuffle=True,\n",
        "                            batch_size=8)\n",
        "dataiter = iter(vis_dataloader)\n",
        "\n",
        "\n",
        "example_batch = next(dataiter)\n",
        "concatenated = torch.cat((example_batch[0],example_batch[1]),0)\n",
        "imshow(torchvision.utils.make_grid(concatenated))\n",
        "print(example_batch[2].numpy())"
      ],
      "metadata": {
        "colab": {
          "base_uri": "https://localhost:8080/",
          "height": 179
        },
        "id": "eRotg88UCdWN",
        "outputId": "0e3dcd5a-e28c-401f-ce49-7cd7e4f97d8b"
      },
      "execution_count": null,
      "outputs": [
        {
          "output_type": "display_data",
          "data": {
            "text/plain": [
              "<Figure size 640x480 with 1 Axes>"
            ],
            "image/png": "[encoded data removed]"
          },
          "metadata": {}
        },
        {
          "output_type": "stream",
          "name": "stdout",
          "text": [
            "[0 0 0 1 0 1 1 0]\n"
          ]
        }
      ]
    },
    {
      "cell_type": "code",
      "source": [
        "torch.save(model.state_dict(), )"
      ],
      "metadata": {
        "id": "lEsDJaCrhFb4"
      },
      "execution_count": null,
      "outputs": []
    },
    {
      "cell_type": "markdown",
      "source": [
        "## Evaluation PLots"
      ],
      "metadata": {
        "id": "wCFnLnwRELoT"
      }
    },
    {
      "cell_type": "code",
      "source": [
        "from utils import plotting"
      ],
      "metadata": {
        "id": "LlrFx0oBErun"
      },
      "execution_count": null,
      "outputs": []
    },
    {
      "cell_type": "code",
      "source": [
        "epoch, value = zip(*train_loss_list)\n",
        "plotting(epoch, value, 'Train Loss Curve', 'Epoch', 'Train Loss')\n",
        "epoch, value = zip(*test_loss_list)\n",
        "plotting(epoch, value, 'Test Loss Curve', 'Epoch', 'Test Loss')"
      ],
      "metadata": {
        "colab": {
          "base_uri": "https://localhost:8080/",
          "height": 1000
        },
        "id": "1v_GUcTBhTV4",
        "outputId": "520662f5-f615-42da-fcf6-60cf26a6bffd"
      },
      "execution_count": null,
      "outputs": [
        {
          "output_type": "display_data",
          "data": {
            "text/plain": [
              "<Figure size 2000x1000 with 1 Axes>"
            ],
            "image/png": "[encoded data removed]"
          },
          "metadata": {}
        },
        {
          "output_type": "display_data",
          "data": {
            "text/plain": [
              "<Figure size 2000x1000 with 1 Axes>"
            ],
            "image/png": "[encoded data removed]"
          },
          "metadata": {}
        }
      ]
    },
    {
      "cell_type": "code",
      "source": [
        "epoch, value = zip(*train_accuracy_list)\n",
        "plotting(epoch, value,'Train Accuracy Curve', 'Epoch', 'Train Accuracy')\n",
        "epoch, value = zip(*test_accuracy_list)\n",
        "plotting(epoch, value, 'Test Accuracy Curve', 'Epoch', 'Test Accuracy')"
      ],
      "metadata": {
        "colab": {
          "base_uri": "https://localhost:8080/",
          "height": 1000
        },
        "id": "1EZibIoTg7oL",
        "outputId": "8c36cf55-06d2-4421-bea4-02fb15a4aae8"
      },
      "execution_count": null,
      "outputs": [
        {
          "output_type": "display_data",
          "data": {
            "text/plain": [
              "<Figure size 2000x1000 with 1 Axes>"
            ],
            "image/png": "[encoded data removed]"
          },
          "metadata": {}
        },
        {
          "output_type": "display_data",
          "data": {
            "text/plain": [
              "<Figure size 2000x1000 with 1 Axes>"
            ],
            "image/png": "[encoded data removed]"
          },
          "metadata": {}
        }
      ]
    },
    {
      "cell_type": "code",
      "source": [],
      "metadata": {
        "id": "qpNzD5UXin4U"
      },
      "execution_count": null,
      "outputs": []
    }
  ]
}